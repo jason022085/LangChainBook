{
 "cells": [
  {
   "cell_type": "markdown",
   "metadata": {},
   "source": [
    "# 讀取資料"
   ]
  },
  {
   "cell_type": "code",
   "execution_count": 1,
   "metadata": {},
   "outputs": [
    {
     "name": "stdout",
     "output_type": "stream",
     "text": [
      "(887, 8)\n",
      "['Survived', 'Pclass', 'Name', 'Sex', 'Age', 'Siblings/Spouses Aboard', 'Parents/Children Aboard', 'Fare']\n",
      "(887, 2)\n",
      "['Name', 'Deposit']\n"
     ]
    }
   ],
   "source": [
    "import pandas as pd\n",
    "\n",
    "df = pd.read_csv(\"titanic.csv\")\n",
    "print(df.shape)\n",
    "print(df.columns.tolist())\n",
    "\n",
    "df2 = pd.read_csv(\"titanic_deposit.csv\")\n",
    "print(df2.shape)\n",
    "print(df2.columns.tolist())"
   ]
  },
  {
   "cell_type": "code",
   "execution_count": 2,
   "metadata": {},
   "outputs": [
    {
     "data": {
      "text/html": [
       "<div>\n",
       "<style scoped>\n",
       "    .dataframe tbody tr th:only-of-type {\n",
       "        vertical-align: middle;\n",
       "    }\n",
       "\n",
       "    .dataframe tbody tr th {\n",
       "        vertical-align: top;\n",
       "    }\n",
       "\n",
       "    .dataframe thead th {\n",
       "        text-align: right;\n",
       "    }\n",
       "</style>\n",
       "<table border=\"1\" class=\"dataframe\">\n",
       "  <thead>\n",
       "    <tr style=\"text-align: right;\">\n",
       "      <th></th>\n",
       "      <th>Survived</th>\n",
       "      <th>Pclass</th>\n",
       "      <th>Name</th>\n",
       "      <th>Sex</th>\n",
       "      <th>Age</th>\n",
       "      <th>Siblings/Spouses Aboard</th>\n",
       "      <th>Parents/Children Aboard</th>\n",
       "      <th>Fare</th>\n",
       "    </tr>\n",
       "  </thead>\n",
       "  <tbody>\n",
       "    <tr>\n",
       "      <th>0</th>\n",
       "      <td>0</td>\n",
       "      <td>3</td>\n",
       "      <td>Mr. Owen Harris Braund</td>\n",
       "      <td>male</td>\n",
       "      <td>22.0</td>\n",
       "      <td>1</td>\n",
       "      <td>0</td>\n",
       "      <td>7.2500</td>\n",
       "    </tr>\n",
       "    <tr>\n",
       "      <th>1</th>\n",
       "      <td>1</td>\n",
       "      <td>1</td>\n",
       "      <td>Mrs. John Bradley (Florence Briggs Thayer) Cum...</td>\n",
       "      <td>female</td>\n",
       "      <td>38.0</td>\n",
       "      <td>1</td>\n",
       "      <td>0</td>\n",
       "      <td>71.2833</td>\n",
       "    </tr>\n",
       "    <tr>\n",
       "      <th>2</th>\n",
       "      <td>1</td>\n",
       "      <td>3</td>\n",
       "      <td>Miss. Laina Heikkinen</td>\n",
       "      <td>female</td>\n",
       "      <td>26.0</td>\n",
       "      <td>0</td>\n",
       "      <td>0</td>\n",
       "      <td>7.9250</td>\n",
       "    </tr>\n",
       "    <tr>\n",
       "      <th>3</th>\n",
       "      <td>1</td>\n",
       "      <td>1</td>\n",
       "      <td>Mrs. Jacques Heath (Lily May Peel) Futrelle</td>\n",
       "      <td>female</td>\n",
       "      <td>35.0</td>\n",
       "      <td>1</td>\n",
       "      <td>0</td>\n",
       "      <td>53.1000</td>\n",
       "    </tr>\n",
       "    <tr>\n",
       "      <th>4</th>\n",
       "      <td>0</td>\n",
       "      <td>3</td>\n",
       "      <td>Mr. William Henry Allen</td>\n",
       "      <td>male</td>\n",
       "      <td>35.0</td>\n",
       "      <td>0</td>\n",
       "      <td>0</td>\n",
       "      <td>8.0500</td>\n",
       "    </tr>\n",
       "  </tbody>\n",
       "</table>\n",
       "</div>"
      ],
      "text/plain": [
       "   Survived  Pclass                                               Name  \\\n",
       "0         0       3                             Mr. Owen Harris Braund   \n",
       "1         1       1  Mrs. John Bradley (Florence Briggs Thayer) Cum...   \n",
       "2         1       3                              Miss. Laina Heikkinen   \n",
       "3         1       1        Mrs. Jacques Heath (Lily May Peel) Futrelle   \n",
       "4         0       3                            Mr. William Henry Allen   \n",
       "\n",
       "      Sex   Age  Siblings/Spouses Aboard  Parents/Children Aboard     Fare  \n",
       "0    male  22.0                        1                        0   7.2500  \n",
       "1  female  38.0                        1                        0  71.2833  \n",
       "2  female  26.0                        0                        0   7.9250  \n",
       "3  female  35.0                        1                        0  53.1000  \n",
       "4    male  35.0                        0                        0   8.0500  "
      ]
     },
     "execution_count": 2,
     "metadata": {},
     "output_type": "execute_result"
    }
   ],
   "source": [
    "df.head()"
   ]
  },
  {
   "cell_type": "code",
   "execution_count": 3,
   "metadata": {},
   "outputs": [
    {
     "data": {
      "text/html": [
       "<div>\n",
       "<style scoped>\n",
       "    .dataframe tbody tr th:only-of-type {\n",
       "        vertical-align: middle;\n",
       "    }\n",
       "\n",
       "    .dataframe tbody tr th {\n",
       "        vertical-align: top;\n",
       "    }\n",
       "\n",
       "    .dataframe thead th {\n",
       "        text-align: right;\n",
       "    }\n",
       "</style>\n",
       "<table border=\"1\" class=\"dataframe\">\n",
       "  <thead>\n",
       "    <tr style=\"text-align: right;\">\n",
       "      <th></th>\n",
       "      <th>Name</th>\n",
       "      <th>Deposit</th>\n",
       "    </tr>\n",
       "  </thead>\n",
       "  <tbody>\n",
       "    <tr>\n",
       "      <th>0</th>\n",
       "      <td>Mr. Owen Harris Braund</td>\n",
       "      <td>23.46</td>\n",
       "    </tr>\n",
       "    <tr>\n",
       "      <th>1</th>\n",
       "      <td>Mrs. John Bradley (Florence Briggs Thayer) Cum...</td>\n",
       "      <td>12.58</td>\n",
       "    </tr>\n",
       "    <tr>\n",
       "      <th>2</th>\n",
       "      <td>Miss. Laina Heikkinen</td>\n",
       "      <td>445.31</td>\n",
       "    </tr>\n",
       "    <tr>\n",
       "      <th>3</th>\n",
       "      <td>Mrs. Jacques Heath (Lily May Peel) Futrelle</td>\n",
       "      <td>456.45</td>\n",
       "    </tr>\n",
       "    <tr>\n",
       "      <th>4</th>\n",
       "      <td>Mr. William Henry Allen</td>\n",
       "      <td>564.10</td>\n",
       "    </tr>\n",
       "  </tbody>\n",
       "</table>\n",
       "</div>"
      ],
      "text/plain": [
       "                                                Name  Deposit\n",
       "0                             Mr. Owen Harris Braund    23.46\n",
       "1  Mrs. John Bradley (Florence Briggs Thayer) Cum...    12.58\n",
       "2                              Miss. Laina Heikkinen   445.31\n",
       "3        Mrs. Jacques Heath (Lily May Peel) Futrelle   456.45\n",
       "4                            Mr. William Henry Allen   564.10"
      ]
     },
     "execution_count": 3,
     "metadata": {},
     "output_type": "execute_result"
    }
   ],
   "source": [
    "df2.head()"
   ]
  },
  {
   "cell_type": "markdown",
   "metadata": {},
   "source": [
    "# SQL 語法查詢CSV"
   ]
  },
  {
   "cell_type": "code",
   "execution_count": 4,
   "metadata": {},
   "outputs": [
    {
     "data": {
      "text/plain": [
       "887"
      ]
     },
     "execution_count": 4,
     "metadata": {},
     "output_type": "execute_result"
    }
   ],
   "source": [
    "from langchain_community.utilities import SQLDatabase\n",
    "from sqlalchemy import create_engine\n",
    "\n",
    "engine = create_engine(\"sqlite:///titanic.db\")\n",
    "df.to_sql(\"titanic\", engine, index=False, if_exists='replace')\n",
    "df2.to_sql(\"deposit\", engine, index=False, if_exists='replace')"
   ]
  },
  {
   "cell_type": "code",
   "execution_count": 5,
   "metadata": {},
   "outputs": [
    {
     "name": "stdout",
     "output_type": "stream",
     "text": [
      "sqlite\n",
      "['deposit', 'titanic']\n",
      "[(0, 3, 'Master. Gosta Leonard Palsson', 'male', 2.0, 3, 1, 21.075), (1, 3, 'Miss. Marguerite Rut Sandstrom', 'female', 4.0, 1, 1, 16.7), (0, 3, 'Master. Eugene Rice', 'male', 2.0, 4, 1, 29.125), (1, 2, 'Miss. Simonne Marie Anne Andree Laroche', 'female', 3.0, 1, 2, 41.5792), (0, 3, 'Master. Harald Skoog', 'male', 4.0, 3, 2, 27.9), (1, 2, 'Master. Alden Gates Caldwell', 'male', 0.83, 0, 2, 29.0), (0, 3, 'Miss. Ellis Anna Maria Andersson', 'female', 2.0, 4, 2, 31.275), (1, 3, 'Miss. Anna Peter', 'female', 2.0, 1, 1, 22.3583), (0, 3, 'Master. Eino Viljami Panula', 'male', 1.0, 4, 1, 39.6875), (0, 3, 'Master. Arthur Rice', 'male', 4.0, 4, 1, 29.125), (1, 3, 'Miss. Eleanor Ileen Johnson', 'female', 1.0, 1, 1, 11.1333), (1, 2, 'Master. Richard F Becker', 'male', 1.0, 2, 1, 39.0), (1, 3, 'Miss. Luise Gretchen Kink-Heilmann', 'female', 4.0, 0, 2, 22.025), (1, 2, 'Master. Michel M Navratil', 'male', 3.0, 1, 1, 26.0), (0, 3, 'Miss. Telma Matilda Strom', 'female', 2.0, 0, 1, 10.4625), (1, 3, 'Master. Edvin Rojj Felix Asplund', 'male', 3.0, 4, 2, 31.3875), (0, 1, 'Miss. Helen Loraine Allison', 'female', 2.0, 1, 2, 151.55), (1, 1, 'Master. Hudson Trevor Allison', 'male', 0.92, 1, 2, 151.55), (1, 2, 'Master. Edmond Roger Navratil', 'male', 2.0, 1, 1, 26.0), (1, 3, 'Master. William Loch Coutts', 'male', 3.0, 1, 1, 15.9), (0, 3, 'Miss. Stina Viola Palsson', 'female', 3.0, 3, 1, 21.075), (1, 3, 'Miss. Maria Nakid', 'female', 1.0, 0, 2, 15.7417), (0, 3, 'Master. Sidney Leonard Goodwin', 'male', 1.0, 5, 2, 46.9), (1, 2, 'Master. William Rowe Richards', 'male', 3.0, 1, 1, 18.75), (0, 3, 'Miss. Ida Lefebre', 'female', 3.0, 3, 1, 25.4667), (1, 1, 'Master. Washington Dodge', 'male', 4.0, 0, 2, 81.8583), (1, 3, 'Miss. Helene Barbara Baclini', 'female', 0.75, 2, 1, 19.2583), (1, 3, 'Miss. Hildur E Hirvonen', 'female', 2.0, 0, 1, 12.2875), (1, 2, 'Miss. Phyllis May Quick', 'female', 2.0, 1, 1, 26.0), (1, 2, 'Miss. Marion Louise Becker', 'female', 4.0, 2, 1, 39.0), (0, 3, 'Miss. Margit Elizabeth Skoog', 'female', 2.0, 3, 2, 27.9), (1, 3, 'Miss. Eugenie Baclini', 'female', 0.75, 2, 1, 19.2583), (1, 3, 'Miss. Manca Karun', 'female', 4.0, 0, 1, 13.4167), (1, 3, 'Master. Halim Gonios Moubarek', 'male', 4.0, 1, 1, 15.2458), (1, 2, 'Miss. Joan Wells', 'female', 4.0, 1, 1, 23.0), (1, 2, 'Master. Viljo Hamalainen', 'male', 0.67, 1, 1, 14.5), (1, 3, 'Master. Bertram Vere Dean', 'male', 1.0, 1, 2, 20.575), (1, 3, 'Master. Assad Alexander Thomas', 'male', 0.42, 0, 1, 8.5167), (0, 3, 'Master. Urho Abraham Panula', 'male', 2.0, 4, 1, 39.6875), (1, 2, 'Master. Andre Mallet', 'male', 1.0, 0, 2, 37.0042), (1, 2, 'Master. George Sibley Richards', 'male', 0.83, 1, 1, 18.75), (0, 3, 'Master. Sigvard Harald Elias Andersson', 'male', 4.0, 4, 2, 31.275), (1, 3, 'Master. Harold Theodor Johnson', 'male', 4.0, 1, 1, 11.1333)]\n",
      "[('Miss. Laina Heikkinen', 445.31), ('Mrs. Jacques Heath (Lily May Peel) Futrelle', 456.45), ('Mr. William Henry Allen', 564.1), ('Master. Gosta Leonard Palsson', 261.89), ('Mrs. Oscar W (Elisabeth Vilhelmina Berg) Johnson', 270.57), ('Mrs. Nicholas (Adele Achem) Nasser', 279.25), ('Miss. Marguerite Rut Sandstrom', 287.93), ('Miss. Elizabeth Bonnell', 296.61), ('Mr. William Henry Saundercock', 305.29), ('Mr. Anders Johan Andersson', 313.97), ('Miss. Hulda Amanda Adolfina Vestrom', 322.65), ('Mrs. (Mary D Kingcome) Hewlett', 331.33), ('Master. Eugene Rice', 340.01), ('Mr. Charles Eugene Williams', 348.69), ('Mrs. Julius (Emelia Maria Vandemoortele) Vander Planke', 357.37), ('Mrs. Fatima Masselmani', 366.05), ('Mr. Joseph J Fynney', 374.73), ('Mr. Lawrence Beesley', 383.41), ('Miss. Anna McGowan', 392.09), ('Mr. William Thompson Sloper', 400.77), ('Miss. Torborg Danira Palsson', 409.45), ('Mrs. Carl Oscar (Selma Augusta Emilia Johansson) Asplund', 418.13), ('Mr. Farred Chehab Emir', 426.81), ('Mr. Charles Alexander Fortune', 435.49), (\"Miss. Ellen O'Dwyer\", 444.17), ('Mr. Lalio Todoroff', 452.85), ('Don. Manuel E Uruchurtu', 461.53), ('Mrs. William Augustus (Marie Eugenie) Spencer', 470.21), ('Miss. Mary Agatha Glynn', 478.88), ('Mr. Edward H Wheadon', 487.56), ('Mr. Edgar Joseph Meyer', 496.24), ('Mr. Alexander Oskar Holverson', 504.92), ('Mr. Hanna Mamee', 513.6), ('Mr. Ernest Charles Cann', 522.28), ('Miss. Augusta Maria Vander Planke', 530.96), ('Miss. Jamila Nicola-Yarred', 539.64), ('Mrs. Johan (Johanna Persdotter Larsson) Ahlin', 548.32), ('Mrs. William John Robert (Dorothy Ann Wonnacott) Turpin', 557.0), ('Miss. Simonne Marie Anne Andree Laroche', 565.68), ('Miss. Margaret Delia Devaney', 574.36), ('Mr. William John Rogers', 583.04), ('Mr. Denis Lennon', 591.72), (\"Miss. Bridget O'Driscoll\", 600.4), ('Mr. Youssef Samaan', 609.08), ('Mrs. Josef (Josefine Franchi) Arnold-Franchi', 617.76), ('Master. Juha Niilo Panula', 626.44), ('Mr. Richard Cater Nosworthy', 635.12), ('Mrs. Henry Sleeper (Myna Haxtun) Harper', 643.8), ('Mrs. Lizzie (Elizabeth Anne Wilkinson) Faunthorpe', 652.48), ('Mr. Engelhart Cornelius Ostby', 661.16), ('Mr. Hugh Woolner', 669.84), ('Miss. Emily Rugg', 678.52), ('Mr. Mansouer Novel', 687.2), ('Miss. Constance Mirium West', 695.88), ('Master. William Frederick Goodwin', 704.56), ('Mr. Orsen Sirayanian', 713.24), ('Miss. Amelie Icard', 721.92), ('Mr. Henry Birkhardt Harris', 730.6), ('Master. Harald Skoog', 739.28), ('Mr. Albert A Stewart', 747.96), ('Master. Gerios Moubarek', 756.64), ('Mrs. (Elizabeth Ramell) Nye', 765.32), ('Mr. Ernest James Crease', 774.0), ('Miss. Erna Alexandra Andersson', 782.67), ('Mr. Vincenz Kink', 791.35), ('Mr. Stephen Curnow Jenkin', 800.03), ('Miss. Lillian Amy Goodwin', 808.71), ('Mr. Ambrose Jr Hood', 817.39), ('Mr. Apostolos Chronopoulos', 826.07), ('Mr. Lee Bing', 834.75), ('Mr. Sigurd Hansen Moen', 843.43), ('Mr. Ivan Staneff', 852.11), ('Mr. Rahamin Haim Moutal', 860.79), ('Master. Alden Gates Caldwell', 869.47), ('Miss. Elizabeth Dowdell', 878.15), ('Mr. Achille Waelens', 886.83), ('Mr. Jan Baptist Sheerlinck', 895.51), ('Miss. Brigdet Delia McDermott', 904.19), ('Mr. Francisco M Carrau', 912.87), ('Miss. Bertha Ilett', 921.55), ('Mrs. Karl Alfred (Maria Mathilda Gustafsson) Backstrom', 930.23), ('Mr. William Neal Ford', 938.91), ('Mr. Selman Francis Slocovski', 947.59), ('Miss. Mabel Helen Fortune', 956.27), ('Mr. Francesco Celotti', 964.95), ('Mr. Emil Christmann', 973.63), ('Mr. Paul Edvin Andreasson', 982.31), ('Mr. Herbert Fuller Chaffee', 990.99), ('Mr. Bertram Frank Dean', 999.67), ('Mr. Daniel Coxon', 1008.35), ('Mr. Charles Joseph Shorney', 1017.03), ('Mr. George B Goldschmidt', 1025.71), ('Mr. William Bertram Greenfield', 1034.39), ('Mrs. John T (Ada Julia Bone) Doling', 1043.07), ('Mr. Sinai Kantor', 1051.75), ('Miss. Matilda Petranec', 1060.43), ('Mr. Pastcho Petroff', 1069.11), ('Mr. Richard Frasar White', 1077.79), ('Mr. Gustaf Joel Johansson', 1086.46), ('Mr. Anders Vilhelm Gustafsson', 1095.14), ('Mr. Stoytcho Mionoff', 1103.82), ('Miss. Anna Kristine Salkjelsvik', 1112.5), ('Mr. Albert Johan Moss', 1121.18), ('Mr. Tido Rekic', 1129.86), ('Miss. Bertha Moran', 1138.54), ('Mr. Walter Chamberlain Porter', 1147.22), ('Miss. Hileni Zabour', 1155.9), ('Mr. David John Barton', 1164.58), ('Miss. Katriina Jussila', 1173.26), ('Miss. Malake Attalah', 1181.94), ('Mr. Edvard Pekoniemi', 1190.62), ('Mr. Patrick Connors', 1199.3), ('Mr. William John Robert Turpin', 1207.98), ('Mr. Quigg Edmond Baxter', 1216.66), ('Miss. Ellis Anna Maria Andersson', 1225.34), ('Mr. Stanley George Hickman', 1234.02), ('Mr. Leonard Charles Moore', 1242.7), ('Mr. Nicholas Nasser', 1251.38), ('Miss. Susan Webber', 1260.06), ('Mr. Percival Wayland White', 1268.74), ('Master. Elias Nicola-Yarred', 1277.42), ('Mr. Martin McMahon', 1286.1), ('Mr. Fridtjof Arne Madsen', 1294.78), ('Miss. Anna Peter', 1303.46), ('Mr. Johan Ekstrom', 1312.14), ('Mr. Jozef Drazenoic', 1320.82), ('Mr. Domingos Fernandeo Coelho', 1329.5), ('Mrs. Alexander A (Grace Charity Laury) Robins', 1338.18), ('Mrs. Leopold (Mathilde Francoise Pede) Weisz', 1346.86), ('Mr. Samuel James Hayden Sobey', 1355.54), ('Mr. Emile Richard', 1364.22), ('Miss. Helen Monypeny Newsom', 1372.9), ('Mr. Jacques Heath Futrelle', 1381.58), ('Mr. Olaf Elon Osen', 1390.25), ('Mr. Victor Giglio', 1398.93), ('Mrs. Joseph (Sultana) Boulos', 1407.61), ('Miss. Anna Sofia Nysten', 1416.29), ('Mrs. Pekka Pietari (Elin Matilda Dolck) Hakkarainen', 1424.97), ('Mr. Jeremiah Burke', 1433.65), ('Mr. Edgardo Samuel Andrew', 1442.33), ('Mr. Joseph Charles Nicholls', 1451.01), ('Mr. August Edvard Andersson', 1459.69), ('Miss. Robina Maggie Ford', 1468.37), ('Mr. Michel Navratil', 1477.05), ('Rev. Thomas Roussel Davids Byles', 1485.73), ('Rev. Robert James Bateman', 1494.41), ('Mrs. Thomas (Edith Wearne) Pears', 1503.09), ('Mr. Alfonzo Meo', 1511.77), ('Mr. Austin Blyler van Billiard', 1520.45), ('Mr. Ole Martin Olsen', 1529.13), ('Mr. Charles Duane Williams', 1537.81), ('Miss. Katherine Gilnagh', 1546.49), ('Mr. Harry Corn', 1555.17), ('Mr. Mile Smiljanic', 1563.85), ('Master. Thomas Henry Sage', 1572.53), ('Mr. John Hatfield Cribb', 1581.21), ('Mrs. James (Elizabeth Inglis Milne) Watt', 1589.89), ('Mr. John Viktor Bengtsson', 1598.57), ('Mr. Jovo Calic', 1607.25), ('Master. Eino Viljami Panula', 1615.93), ('Master. Frank John William Goldsmith', 1624.61), ('Mrs. (Edith Martha Bowerman) Chibnall', 1633.29), ('Mrs. William (Anna Bernhardina Karlsson) Skoog', 1641.97), ('Mr. John D Baumann', 1650.65), ('Mr. Lee Ling', 1659.33), ('Mr. Wyckoff Van der hoef', 1668.01), ('Master. Arthur Rice', 1676.69), ('Miss. Eleanor Ileen Johnson', 1685.37), ('Mr. Antti Wilhelm Sivola', 1694.04), ('Mr. James Clinch Smith', 1702.72), ('Mr. Klas Albin Klasen', 1711.4), ('Master. Henry Forbes Lefebre', 1720.08), ('Miss. Ann Elizabeth Isham', 1728.76), ('Mr. Reginald Hale', 1737.44), ('Mr. Lionel Leonard', 1746.12), ('Miss. Constance Gladys Sage', 1754.8), ('Mr. Rene Pernot', 1763.48), ('Master. Clarence Gustaf Hugo Asplund', 1772.16), ('Master. Richard F Becker', 1780.84), ('Miss. Luise Gretchen Kink-Heilmann', 1789.52), ('Mr. Hugh Roscoe Rood', 1798.2), (\"Mrs. Thomas (Johanna Godfrey) O'Brien\", 1806.88), ('Mr. Charles Hallace Romaine', 1815.56), ('Mr. John Bourke', 1824.24), ('Mr. Stjepan Turcin', 1832.92), ('Mrs. (Rosa) Pinsky', 1841.6), ('Mr. William Carbines', 1850.28), ('Miss. Carla Christine Nielsine Andersen-Jensen', 1858.96), ('Master. Michel M Navratil', 1867.64), ('Mrs. James Joseph (Margaret Tobin) Brown', 1876.32), ('Miss. Elise Lurette', 1885.0), ('Mr. Robert Mernagh', 1893.68), ('Mr. Karl Siegwart Andreas Olsen', 1902.36), ('Miss. Margaret Madigan', 1911.04), ('Miss. Henriette Yrois', 1919.72), ('Mr. Nestor Cyriel Vande Walle', 1928.4), ('Mr. Frederick Sage', 1937.08), ('Mr. Jakob Alfred Johanson', 1945.76), ('Mr. Gerious Youseff', 1954.44), ('Mr. Gurshon Cohen', 1963.12), ('Miss. Telma Matilda Strom', 1971.8), ('Mr. Karl Alfred Backstrom', 1980.48), ('Mr. Nassef Cassem Albimona', 1989.16), ('Miss. Helen Carr', 1997.83), ('Mr. Henry Blank', 2006.51), ('Mr. Ahmed Ali', 2015.19), ('Miss. Clear Annie Cameron', 2023.87), ('Mr. John Henry Perkin', 2032.55), ('Mr. Hans Kristensen Givard', 2041.23), ('Mr. Philip Kiernan', 2049.91), ('Miss. Madeleine Newell', 2058.59), ('Miss. Eliina Honkanen', 2067.27), ('Mr. Sidney Samuel Jacobsohn', 2075.95), ('Miss. Albina Bazzani', 2084.63), ('Mr. Walter Harris', 2093.31), ('Mr. Victor Francis Sunderland', 2101.99), ('Mr. James H Bracken', 2110.67), ('Mr. George Henry Green', 2119.35), ('Mr. Christo Nenkoff', 2128.03), ('Mr. Frederick Maxfield Hoyt', 2136.71), ('Mr. Karl Ivar Sven Berglund', 2145.39), ('Mr. William John Mellors', 2154.07), ('Mr. John Hall Lovell', 2162.75), ('Mr. Arne Jonas Fahlstrom', 2171.43), ('Miss. Mathilde Lefebre', 2180.11), ('Mrs. Henry Birkhardt (Irene Wallach) Harris', 2188.79), ('Mr. Bengt Edvin Larsson', 2197.47), ('Mr. Ernst Adolf Sjostedt', 2206.15), ('Miss. Lillian Gertrud Asplund', 2214.83), ('Mr. Robert William Norman Leyson', 2223.51), ('Miss. Alice Phoebe Harknett', 2232.19), ('Mr. Stephen Hold', 2240.87), ('Miss. Marjorie Collyer', 2249.55), ('Mr. Frederick William Pengelly', 2258.23), ('Mr. George Henry Hunt', 2266.91), ('Miss. Thamine Zabour', 2275.59), ('Miss. Katherine Murphy', 2284.27), ('Mr. Reginald Charles Coleridge', 2292.95), ('Mr. Matti Alexanteri Maenpaa', 2301.62), ('Mr. Sleiman Attalah', 2310.3), ('Dr. William Edward Minahan', 2318.98), ('Miss. Agda Thorilda Viktoria Lindahl', 2327.66), ('Mrs. William (Anna) Hamalainen', 2336.34), ('Mr. Richard Leonard Beckwith', 2345.02), ('Rev. Ernest Courtenay Carter', 2353.7), ('Mr. James George Reed', 2362.38), ('Mrs. Wilhelm (Elna Matilda Persson) Strom', 2371.06), ('Mr. William Thomas Stead', 2379.74), ('Mr. William Arthur Lobb', 2388.42), ('Mrs. Viktor (Helena Wilhelmina) Rosblom', 2397.1), ('Mrs. Darwis (Hanne Youssef Razi) Touma', 2405.78), ('Mrs. Gertrude Maybelle Thorne', 2414.46), ('Miss. Gladys Cherry', 2423.14), ('Miss. Anna Ward', 2431.82), ('Mrs. (Lutie Davis) Parrish', 2440.5), ('Master. Edvin Rojj Felix Asplund', 2449.18), ('Mr. Emil Taussig', 2457.86), ('Mr. William Harrison', 2466.54), ('Miss. Delia Henry', 2475.22), ('Mr. David Reeves', 2483.9), ('Mr. Ernesti Arvid Panula', 2492.58), ('Mr. Ernst Ulrik Persson', 2501.26), ('Mrs. William Thompson (Edith Junkins) Graham', 2509.94), ('Miss. Amelia Bissette', 2518.62), ('Mr. Alexander Cairns', 2527.3), ('Mr. William Henry Tornquist', 2535.98), ('Mrs. (Elizabeth Anne Maidment) Mellinger', 2544.66), ('Mr. Charles H Natsch', 2553.34), ('Miss. Hanora Healy', 2562.02), ('Miss. Kornelia Theodosia Andrews', 2570.7), ('Miss. Augusta Charlotta Lindblom', 2579.38), ('Mr. Francis Parkes', 2588.06), ('Master. Eric Rice', 2596.74), ('Mrs. Stanton (Rosa Hunt) Abbott', 2605.41), ('Mr. Frank Duane', 2614.09), ('Mr. Nils Johan Goransson Olsson', 2622.77), ('Mr. Alfons de Pelsmaeker', 2631.45), ('Mr. Edward Arthur Dorking', 2640.13), ('Mr. Richard William Smith', 2648.81), ('Mr. Ivan Stankovic', 2657.49), ('Mr. Theodore de Mulder', 2666.17), ('Mr. Penko Naidenoff', 2674.85), ('Mr. Masabumi Hosono', 2683.53), ('Miss. Kate Connolly', 2692.21), ('Miss. Ellen Barber', 2700.89), ('Mrs. Dickinson H (Helen Walton) Bishop', 2709.57), ('Mr. Rene Jacques Levy', 2718.25), ('Miss. Aloisia Haas', 2726.93), ('Mr. Ivan Mineff', 2735.61), ('Mr. Ervin G Lewy', 2744.29), ('Mr. Mansour Hanna', 2752.97), ('Miss. Helen Loraine Allison', 2761.65), ('Mr. Adolphe Saalfeld', 2770.33), ('Mrs. James (Helene DeLaudeniere Chaput) Baxter', 2779.01), ('Miss. Anna Katherine Kelly', 2787.69), ('Mr. Bernard McCoy', 2796.37), ('Mr. William Cahoone Jr Johnson', 2805.05), ('Miss. Nora A Keane', 2813.73), ('Mr. Howard Hugh Williams', 2822.41), ('Master. Hudson Trevor Allison', 2831.09), ('Miss. Margaret Fleming', 2839.77), ('Mrs. Victor de Satode (Maria Josefa Perez de Soto y Vallejo) Penasco y Castellana', 2848.45), ('Mr. Samuel Abelson', 2857.13), ('Miss. Laura Mabel Francatelli', 2865.81), ('Miss. Margaret Bechstein Hays', 2874.49), ('Miss. Emily Borie Ryerson', 2883.17), ('Mrs. William (Anna Sylfven) Lahtinen', 2891.85), ('Mr. Ignjac Hendekovic', 2900.53), ('Mr. Benjamin Hart', 2909.2), ('Miss. Helmina Josefina Nilsson', 2917.88), ('Mrs. Sinai (Miriam Sternin) Kantor', 2926.56), ('Dr. Ernest Moraweck', 2935.24), ('Miss. Mary Natalie Wick', 2943.92), ('Mrs. Frederic Oakley (Margaretta Corning Stone) Spedden', 2952.6), ('Mr. Samuel Dennis', 2961.28), ('Mr. Yoto Danoff', 2969.96), ('Miss. Hilda Mary Slayter', 2978.64), ('Mrs. Albert Francis (Sylvia Mae Harbaugh) Caldwell', 2987.32), ('Mr. George John Jr Sage', 2996.0), ('Miss. Marie Grice Young', 3004.68), ('Mr. Johan Hansen Nysveen', 3013.36), ('Mrs. (Ada E Hall) Ball', 3022.04), ('Mrs. Frank John (Emily Alice Brown) Goldsmith', 3030.72), ('Miss. Jean Gertrude Hippach', 3039.4), ('Miss. Agnes McCoy', 3048.08), ('Mr. Austen Partner', 3056.76), ('Mr. George Edward Graham', 3065.44), ('Mr. Leo Edmondus Vander Planke', 3074.12), ('Mrs. Henry William (Clara Heinsheimer) Frauenthal', 3082.8), ('Mr. Mitto Denkoff', 3091.48), ('Mr. Thomas Clinton Pears', 3100.16), ('Miss. Elizabeth Margaret Burns', 3108.84), ('Mr. Karl Edwart Dahl', 3117.52), ('Mr. Stephen Weart Blackwell', 3126.2), ('Master. Edmond Roger Navratil', 3134.88), ('Miss. Alice Elizabeth Fortune', 3143.56), ('Mr. Erik Gustaf Collander', 3152.24), ('Mr. Charles Frederick Waddington Sedgwick', 3160.92), ('Mr. Stanley Hubert Fox', 3169.6), ('Miss. Amelia Brown', 3178.28), ('Miss. Marion Elsie Smith', 3186.96), ('Mrs. Thomas Henry (Mary E Finck) Davison', 3195.64), ('Master. William Loch Coutts', 3204.32), ('Mr. Jovan Dimic', 3212.99), ('Mr. Nils Martin Odahl', 3221.67), ('Mr. Fletcher Fellows Williams-Lambert', 3230.35), ('Mr. Tannous Elias', 3239.03), ('Mr. Josef Arnold-Franchi', 3247.71), ('Mr. Wazli Yousif', 3256.39), ('Mr. Leo Peter Vanden Steen', 3265.07), ('Miss. Elsie Edith Bowerman', 3273.75), ('Miss. Annie Clemmer Funk', 3282.43), ('Miss. Mary McGovern', 3291.11), ('Miss. Helen Mary Mockler', 3299.79), ('Mr. Wilhelm Skoog', 3308.47), ('Mr. Sebastiano del Carlo', 3317.15), ('Mrs. (Catherine David) Barbara', 3325.83), ('Mr. Adola Asim', 3334.51), (\"Mr. Thomas O'Brien\", 3343.19), ('Mr. Mauritz Nils Martin Adahl', 3351.87), ('Mrs. Frank Manley (Anna Sophia Atkinson) Warren', 3360.55), ('Mrs. (Mantoura Boulos) Moussa', 3369.23), ('Miss. Annie Jermyn', 3377.91), ('Mme. Leontine Pauline Aubart', 3386.59), ('Mr. George Achilles Harder', 3395.27), ('Mr. Jakob Alfred Wiklund', 3403.95), ('Mr. William Thomas Beavan', 3412.63), ('Mr. Sante Ringhini', 3421.31), ('Miss. Stina Viola Palsson', 3429.99), ('Mrs. Edgar Joseph (Leila Saks) Meyer', 3438.67), ('Miss. Aurora Adelia Landergren', 3447.35), ('Mr. Harry Elkins Widener', 3456.03), ('Mr. Tannous Betros', 3464.71), ('Mr. Karl Gideon Gustafsson', 3473.39), ('Miss. Rosalie Bidois', 3482.07), ('Miss. Maria Nakid', 3490.75), ('Mr. Juho Tikkanen', 3499.43), ('Mrs. Alexander Oskar (Mary Aline Towner) Holverson', 3508.11), ('Mr. Vasil Plotcharsky', 3516.78), ('Mr. Charles Henry Davies', 3525.46), ('Master. Sidney Leonard Goodwin', 3534.14), ('Miss. Kate Buss', 3542.82), ('Mr. Matthew Sadlier', 3551.5), ('Miss. Bertha Lehmann', 3560.18), ('Mr. William Ernest Carter', 3568.86), ('Mr. Carl Olof Jansson', 3577.54), ('Mr. Johan Birger Gustafsson', 3586.22), ('Miss. Marjorie Newell', 3594.9), ('Mrs. Hjalmar (Agnes Charlotta Bengtsson) Sandstrom', 3603.58), ('Mr. Erik Johansson', 3612.26), ('Miss. Elina Olsson', 3620.94), ('Mr. Peter David McKane', 3629.62), ('Dr. Alfred Pain', 3638.3), ('Mrs. William H (Jessie L) Trout', 3646.98), ('Mr. Juha Niskanen', 3655.66), ('Mr. John Adams', 3664.34), ('Miss. Mari Aina Jussila', 3673.02), ('Mr. Pekka Pietari Hakkarainen', 3681.7), ('Miss. Marija Oreskovic', 3690.38), ('Mr. Shadrach Gale', 3699.06), ('Mr. Carl/Charles Peter Widegren', 3707.74), ('Master. William Rowe Richards', 3716.42), ('Mr. Hans Martin Monsen Birkeland', 3725.1), ('Miss. Ida Lefebre', 3733.78), ('Mr. Todor Sdycoff', 3742.46), ('Mr. Henry Hart', 3751.14), ('Miss. Daisy E Minahan', 3759.82), ('Mr. Alfred Fleming Cunningham', 3768.5), ('Mr. Johan Julian Sundman', 3777.18), ('Mrs. Thomas (Annie Louise Rowley) Meek', 3785.86), ('Mrs. James Vivian (Lulu Thorne Christian) Drew', 3794.54), ('Miss. Lyyli Karoliina Silven', 3803.22), ('Mr. William John Matthews', 3811.9), ('Miss. Catharina Van Impe', 3820.57), ('Mr. David Charters', 3829.25), ('Mr. Leo Zimmerman', 3837.93), ('Mrs. Ernst Gilbert (Anna Sigrid Maria Brogren) Danbom', 3846.61), ('Mr. Viktor Richard Rosblom', 3855.29), ('Mr. Phillippe Wiseman', 3863.97), ('Mrs. Charles V (Ada Maria Winfield) Clarke', 3872.65), ('Miss. Kate Florence Phillips', 3881.33), ('Mr. James Flynn', 3890.01), ('Mr. Berk (Berk Trembisky) Pickard', 3898.69), ('Mr. Mauritz Hakan Bjornstrom-Steffansson', 3907.37), ('Mrs. Percival (Florence Kate White) Thorneycroft', 3916.05), ('Mrs. Charles Alexander (Alice Adelaide Slow) Louch', 3924.73), ('Mr. Nikolai Erland Kallio', 3933.41), ('Mr. William Baird Silvey', 3942.09), ('Miss. Lucile Polk Carter', 3950.77), ('Miss. Doolina Margaret Ford', 3959.45), ('Mrs. Sidney (Emily Hocking) Richards', 3968.13), ('Mr. Mark Fortune', 3976.81), ('Mr. Johan Henrik Johannesson Kvillner', 3985.49), ('Mrs. Benjamin (Esther Ada Bloomfield) Hart', 3994.17), ('Mr. Leon Hampe', 4002.85), ('Mr. Johan Emil Petterson', 4011.53), ('Ms. Encarnacion Reynaldo', 4020.21), ('Mr. Bernt Johannesen-Bratthammer', 4028.89), ('Master. Washington Dodge', 4037.57), ('Miss. Madeleine Violet Mellinger', 4046.25), ('Mr. Frederic Kimber Seward', 4054.93), ('Miss. Marie Catherine Baclini', 4063.61), ('Major. Arthur Godfrey Peuchen', 4072.29), ('Mr. Edwy Arthur West', 4080.97), ('Mr. Ingvald Olai Olsen Hagland', 4089.65), ('Mr. Benjamin Laventall Foreman', 4098.33), ('Mr. Samuel L Goldenberg', 4107.01), ('Mr. Joseph Peduzzi', 4115.69), ('Mr. Ivan Jalsevac', 4124.36), ('Mr. Francis Davis Millet', 4133.04), ('Mrs. Frederick R (Marion) Kenyon', 4141.72), ('Miss. Ellen Toomey', 4150.4), (\"Mr. Maurice O'Connor\", 4159.08), ('Mr. Harry Anderson', 4167.76), ('Mr. William Morley', 4176.44), ('Mr. Arthur H Gee', 4185.12), ('Mr. Jacob Christian Milling', 4193.8), ('Mr. Simon Maisner', 4202.48), ('Mr. Manuel Estanslas Goncalves', 4211.16), ('Mr. William Campbell', 4219.84), ('Mr. John Montgomery Smart', 4228.52), ('Mr. James Scanlan', 4237.2), ('Miss. Helene Barbara Baclini', 4245.88), ('Mr. Arthur Keefe', 4254.56), ('Mr. Luka Cacic', 4263.24), ('Mrs. Edwy Arthur (Ada Mary Worth) West', 4271.92), ('Mrs. Amin S (Marie Marthe Thuillard) Jerwan', 4280.6), ('Miss. Ida Sofia Strandberg', 4289.28), ('Mr. George Quincy Clifford', 4297.96), ('Mr. Peter Henry Renouf', 4306.64), ('Mr. Lewis Richard Braund', 4315.32), ('Mr. Nils August Karlsson', 4324.0), ('Miss. Hildur E Hirvonen', 4332.68), ('Master. Harold Victor Goodwin', 4341.36), ('Mr. Anthony Wood Frost', 4350.04), ('Mr. Richard Henry Rouse', 4358.72), ('Mrs. (Hedwig) Turkula', 4367.4), ('Mr. Dickinson H Bishop', 4376.08), ('Miss. Jeannie Lefebre', 4384.76), ('Mrs. Frederick Maxfield (Jane Anne Forby) Hoyt', 4393.44), ('Mr. Edward Austin Kent', 4402.12), ('Mr. Francis William Somerton', 4410.8), ('Master. Eden Leslie Coutts', 4419.48), ('Mr. Konrad Mathias Reiersen Hagland', 4428.15), ('Mr. Einar Windelov', 4436.83), ('Mr. Harry Markland Molson', 4445.51), ('Mr. Ramon Artagaveytia', 4454.19), ('Mr. Edward Roland Stanley', 4462.87), ('Mr. Gerious Yousseff', 4471.55), ('Miss. Elizabeth Mussey Eustis', 4480.23), ('Mr. Frederick William Shellard', 4488.91), ('Mrs. Hudson J C (Bessie Waldo Daniels) Allison', 4497.59), ('Mr. Olof Svensson', 4506.27), ('Mr. Petar Calic', 4514.95), ('Miss. Mary Canavan', 4523.63), (\"Miss. Bridget Mary O'Sullivan\", 4532.31), ('Miss. Kristina Sofia Laitinen', 4540.99), ('Miss. Roberta Maioni', 4549.67), ('Mr. Victor de Satode Penasco y Castellana', 4558.35), ('Mrs. Frederick Charles (Jane Richards) Quick', 4567.03), ('Mr. George Bradley', 4575.71), ('Mr. Henry Margido Olsen', 4584.39), ('Mr. Fang Lang', 4593.07), ('Mr. Eugene Patrick Daly', 4601.75), ('Mr. James Webber', 4610.43), ('Mr. James Robert McGough', 4619.11), ('Mrs. Martin (Elizabeth L. Barrett) Rothschild', 4627.79), ('Mr. Satio Coleff', 4636.47), ('Mr. William Anderson Walker', 4645.15), ('Mrs. (Amelia Milley) Lemore', 4653.83), ('Mr. Patrick Ryan', 4662.51), ('Mrs. William A (Florence Agnes Hughes) Angle', 4671.19), ('Mr. Stefo Pavlovic', 4679.87), ('Miss. Anne Perreault', 4688.55), ('Mr. Janko Vovk', 4697.23), ('Mr. Sarkis Lahoud', 4705.91), ('Mrs. Louis Albert (Ida Sophia Fischer) Hippach', 4714.59), ('Mr. Fared Kassem', 4723.27), ('Mr. James Farrell', 4731.94), ('Miss. Lucy Ridsdale', 4740.62), ('Mr. John Farthing', 4749.3), ('Mr. Johan Werner Salonen', 4757.98), ('Mr. Richard George Hocking', 4766.66), ('Miss. Phyllis May Quick', 4775.34), ('Mr. Nakli Toufik', 4784.02), ('Mr. Joseph Jr Elias', 4792.7), ('Mrs. Catherine (Catherine Rizk) Peter', 4801.38), ('Miss. Marija Cacic', 4810.06), ('Miss. Eva Miriam Hart', 4818.74), ('Major. Archibald Willingham Butt', 4827.42), ('Miss. Bertha LeRoy', 4836.1), ('Mr. Samuel Beard Risien', 4844.78), ('Miss. Hedwig Margaritha Frolicher', 4853.46), ('Miss. Harriet R Crosby', 4862.14), ('Miss. Ingeborg Constanzia Andersson', 4870.82), ('Miss. Sigrid Elisabeth Andersson', 4879.5), ('Mr. Edward Beane', 4888.18), ('Mr. Walter Donald Douglas', 4896.86), ('Mr. Arthur Ernest Nicholson', 4905.54), ('Mrs. Edward (Ethel Clarke) Beane', 4914.22), ('Mr. Julian Padro y Manent', 4922.9), ('Mr. Frank John Goldsmith', 4931.58), ('Master. John Morgan Jr Davies', 4940.26), ('Mr. John Borland Jr Thayer', 4948.94), ('Mr. Percival James R Sharp', 4957.62), (\"Mr. Timothy O'Brien\", 4966.3), ('Mr. Fahim Leeni', 4974.98), ('Miss. Velin Ohman', 4983.66), ('Mr. George Wright', 4992.34), ('Lady. (Lucille Christiana Sutherland)Duff Gordon', 5001.02), ('Mr. Victor Robbins', 5009.7), ('Mrs. Emil (Tillie Mandelbaum) Taussig', 5018.38), ('Mrs. Guillaume Joseph (Emma) de Messemaeker', 5027.06), ('Mr. Thomas Rowan Morrow', 5035.73), ('Mr. Husein Sivic', 5044.41), ('Mr. Robert Douglas Norman', 5053.09), ('Mr. John Simmons', 5061.77), ('Miss. (Marion Ogden) Meanwell', 5070.45), ('Mr. Alfred J Davies', 5079.13), ('Mr. Ilia Stoytcheff', 5087.81), ('Mrs. Nils (Alma Cornelia Berglund) Palsson', 5096.49), ('Mr. Tannous Doharr', 5105.17), ('Mr. Carl Jonsson', 5113.85), ('Mr. George Harris', 5122.53), ('Mrs. Edward Dale (Charlotte Lamson) Appleton', 5131.21), ('Mr. John Irwin Flynn', 5139.89), ('Miss. Mary Kelly', 5148.57), ('Mr. Alfred George John Rush', 5157.25), ('Mr. George Patchett', 5165.93), ('Miss. Ethel Garside', 5174.61), ('Mrs. William Baird (Alice Munger) Silvey', 5183.29), ('Mrs. Joseph (Maria Elias) Caram', 5191.97), ('Mr. Eiriik Jussila', 5200.65), ('Miss. Julie Rachel Christy', 5209.33), ('Mrs. John Borland (Marian Longstreth Morris) Thayer', 5218.01), ('Mr. William James Downton', 5226.69), ('Mr. John Hugo Ross', 5235.37), ('Mr. Uscher Paulner', 5244.05), ('Miss. Ruth Taussig', 5252.73), ('Mr. John Denzil Jarvis', 5261.41), ('Mr. Maxmillian Frolicher-Stehli', 5270.09), ('Mr. Eliezer Gilinski', 5278.77), ('Mr. Joseph Murdlin', 5287.45), ('Mr. Matti Rintamaki', 5296.13), ('Mrs. Walter Bertram (Martha Eustis) Stephenson', 5304.81), ('Mr. William James Elsbury', 5313.49), ('Miss. Mary Bourke', 5322.17), ('Mr. John Henry Chapman', 5330.85), ('Mr. Jean Baptiste Van Impe', 5339.52), ('Miss. Jessie Wills Leitch', 5348.2), ('Mr. Alfred Johnson', 5356.88), ('Mr. Hanna Boulos', 5365.56), ('Sir. Cosmo Edmund Duff Gordon', 5374.24), ('Mrs. Sidney Samuel (Amy Frances Christy) Jacobsohn', 5382.92), ('Mr. Petco Slabenoff', 5391.6), ('Mr. Charles H Harrington', 5400.28), ('Mr. Ernst William Torber', 5408.96), ('Mr. Harry Homer', 5417.64), ('Mr. Edvard Bengtsson Lindell', 5426.32), ('Mr. Milan Karaic', 5435.0), ('Mr. Robert Williams Daniel', 5443.68), ('Mrs. Joseph (Juliette Marie Louise Lafargue) Laroche', 5452.36), ('Miss. Elizabeth W Shutes', 5461.04), ('Mrs. Anders Johan (Alfrida Konstantia Brogren) Andersson', 5469.72), ('Mr. Jose Neto Jardin', 5478.4), ('Miss. Margaret Jane Murphy', 5487.08), ('Mr. John Horgan', 5495.76), ('Mr. William Alfred Brocklebank', 5504.44), ('Miss. Alice Herman', 5513.12), ('Mr. Ernst Gilbert Danbom', 5521.8), ('Mrs. William Arthur (Cordelia K Stanlick) Lobb', 5530.48), ('Miss. Marion Louise Becker', 5539.16), ('Mr. Lawrence Gavey', 5547.84), ('Mr. Antoni Yasbeck', 5556.52), ('Mr. Edwin Nelson Jr Kimball', 5565.2), ('Mr. Sahid Nakid', 5573.88), ('Mr. Henry Damsgaard Hansen', 5582.56), ('Mr. David John Bowen', 5591.24), ('Mr. Frederick Sutton', 5599.92), ('Rev. Charles Leonard Kirkland', 5608.6), ('Miss. Gretchen Fiske Longley', 5617.28), ('Mr. Guentcho Bostandyeff', 5625.96), (\"Mr. Patrick D O'Connell\", 5634.64), ('Mr. Algernon Henry Wilson Barkworth', 5643.31), ('Mr. Johan Svensson Lundahl', 5651.99), ('Dr. Max Stahelin-Maeglin', 5660.67), ('Mr. William Henry Marsh Parr', 5669.35), ('Miss. Mabel Skoog', 5678.03), ('Miss. Mary Davis', 5686.71), ('Mr. Antti Gustaf Leinonen', 5695.39), ('Mr. Harvey Collyer', 5704.07), ('Mrs. Juha (Maria Emilia Ojala) Panula', 5712.75), ('Mr. Percival Thorneycroft', 5721.43), ('Mr. Hans Peder Jensen', 5730.11), ('Mlle. Emma Sagesser', 5738.79), ('Miss. Margit Elizabeth Skoog', 5747.47), ('Mr. Choong Foo', 5756.15), ('Miss. Eugenie Baclini', 5764.83), ('Mr. Henry Sleeper Harper', 5773.51), ('Mr. Liudevit Cor', 5782.19), ('Col. Oberst Alfons Simonius-Blumer', 5790.87), ('Mr. Edward Willey', 5799.55), ('Miss. Amy Zillah Elsie Stanley', 5808.23), ('Mr. Mito Mitkoff', 5816.91), ('Miss. Elsie Doling', 5825.59), ('Mr. Johannes Halvorsen Kalvik', 5834.27), (\"Miss. Hanora O'Leary\", 5842.95), ('Miss. Hanora Hegarty', 5851.63), ('Mr. Leonard Mark Hickman', 5860.31), ('Mr. Alexander Radeff', 5868.99), ('Mrs. John (Catherine) Bourke', 5877.67), ('Mr. George Floyd Eitemiller', 5886.35), ('Mr. Arthur Webster Newell', 5895.03), ('Dr. Henry William Frauenthal', 5903.71), ('Mr. Mohamed Badt', 5912.39), ('Mr. Edward Pomeroy Colley', 5921.07), ('Mr. Peju Coleff', 5929.75), ('Mr. Eino William Lindqvist', 5938.43), ('Mr. Lewis Hickman', 5947.1), ('Mr. Reginald Fenton Butler', 5955.78), ('Mr. Knud Paust Rommetvedt', 5964.46), ('Mr. Jacob Cook', 5973.14), ('Mrs. Elmer Zebley (Juliet Cummins Wright) Taylor', 5981.82), ('Mrs. Thomas William Solomon (Elizabeth Catherine Ford) Brown', 5990.5), ('Mr. Thornton Davidson', 5999.18), ('Mr. Henry Michael Mitchell', 6007.86), ('Mr. Charles Wilhelms', 6016.54), ('Mr. Ennis Hastings Watson', 6025.22), ('Mr. Gustaf Hjalmar Edvardsson', 6033.9), ('Mr. Frederick Charles Sawyer', 6042.58), ('Miss. Anna Sofia Turja', 6051.26), ('Mrs. Frederick (Augusta Tyler) Goodwin', 6059.94), ('Mr. Thomas Drake Martinez Cardeza', 6068.62), ('Miss. Katie Peters', 6077.3), ('Mr. Hammad Hassab', 6085.98), ('Mr. Thor Anderson Olsvigen', 6094.66), ('Mr. Charles Edward Goodwin', 6103.34), ('Mr. Thomas William Solomon Brown', 6112.02), ('Mr. Joseph Philippe Lemercier Laroche', 6120.7), ('Mr. Jaako Arnold Panula', 6129.38), ('Mr. Branko Dakic', 6138.06), ('Mr. Eberhard Thelander Fischer', 6146.74), ('Miss. Georgette Alexandra Madill', 6155.42), ('Mr. Albert Adrian Dick', 6164.1), ('Miss. Manca Karun', 6172.78), ('Mr. Ali Lam', 6181.46), ('Mr. Khalil Saad', 6190.14), ('Col. John Weir', 6198.82), ('Mr. Charles Henry Chapman', 6207.5), ('Mr. James Kelly', 6216.18), ('Miss. Katherine Mullens', 6224.86), ('Mr. John Borland Thayer', 6233.54), ('Mr. Adolf Mathias Nicolai Olsen Humblen', 6242.22), ('Mrs. John Jacob (Madeleine Talmadge Force) Astor', 6250.89), ('Mr. Spencer Victor Silverthorne', 6259.57), ('Miss. Saiide Barbara', 6268.25), ('Mr. Martin Gallagher', 6276.93), ('Mr. Henrik Juul Hansen', 6285.61), ('Mr. Henry Samuel Morley', 6294.29), ('Mrs. Florence Kelly', 6302.97), ('Mr. Edward Pennington Calderhead', 6311.65), ('Miss. Alice Cleaver', 6320.33), ('Master. Halim Gonios Moubarek', 6329.01), ('Mlle. Berthe Antonine Mayne', 6337.69), ('Mr. Herman Klaber', 6346.37), ('Mr. Elmer Zebley Taylor', 6355.05), ('Mr. August Viktor Larsson', 6363.73), ('Mr. Samuel Greenberg', 6372.41), ('Mr. Peter Andreas Lauritz Andersen Soholt', 6381.09), ('Miss. Caroline Louise Endres', 6389.77), ('Miss. Edwina Celia Troutt', 6398.45), ('Mr. Malkolm Joackim Johnson', 6407.13), ('Miss. Annie Jessie Harper', 6415.81), ('Mr. Svend Lauritz Jensen', 6424.49), ('Mr. William Henry Gillespie', 6433.17), ('Mr. Henry Price Hodges', 6441.85), ('Mr. Norman Campbell Chambers', 6450.53), ('Mr. Luka Oreskovic', 6459.21), ('Mrs. Peter Henry (Lillian Jefferys) Renouf', 6467.89), ('Miss. Margareth Mannion', 6476.57), ('Mr. Kurt Arnold Gottfrid Bryhl', 6485.25), ('Miss. Pieta Sofia Ilmakangas', 6493.93), ('Miss. Elisabeth Walton Allen', 6502.61), ('Mr. Houssein G N Hassan', 6511.29), ('Mr. Robert J Knight', 6519.97), ('Mr. William John Berriman', 6528.65), ('Mr. Moses Aaron Troupiansky', 6537.33), ('Mr. Leslie Williams', 6546.01), ('Mrs. Edward (Margaret Ann Watson) Ford', 6554.68), ('Mr. Gustave J Lesurer', 6563.36), ('Mr. Kanio Ivanoff', 6572.04), ('Mr. Minko Nankoff', 6580.72), ('Mr. Walter James Hawksford', 6589.4), ('Mr. Tyrell William Cavendish', 6598.08), ('Miss. Susan Parker Ryerson', 6606.76), ('Mr. Neal McNamee', 6615.44), ('Mr. Juho Stranden', 6624.12), ('Capt. Edward Gifford Crosby', 6632.8), ('Mr. Rossmore Edward Abbott', 6641.48), ('Miss. Anna Sinkkonen', 6650.16), ('Mr. Daniel Warner Marvin', 6658.84), ('Mr. Michael Connaghton', 6667.52), ('Miss. Joan Wells', 6676.2), ('Master. Meier Moor', 6684.88), ('Mr. Johannes Joseph Vande Velde', 6693.56), ('Mr. Lalio Jonkoff', 6702.24), ('Mrs. Samuel (Jane Laver) Herman', 6710.92), ('Master. Viljo Hamalainen', 6719.6), ('Mr. August Sigfrid Carlsson', 6728.28), ('Mr. Percy Andrew Bailey', 6736.96), ('Mr. Thomas Leonard Theobald', 6745.64), ('the Countess. of (Lucy Noel Martha Dyer-Edwards) Rothes', 6754.32), ('Mr. John Garfirth', 6763.0), ('Mr. Iisakki Antino Aijo Nirva', 6771.68), ('Mr. Hanna Assi Barah', 6780.36), ('Mrs. William Ernest (Lucile Polk) Carter', 6789.04), ('Mr. Hans Linus Eklund', 6797.72), ('Mrs. John C (Anna Andrews) Hogeboom', 6806.4), ('Dr. Arthur Jackson Brewe', 6815.08), ('Miss. Mary Mangan', 6823.76), ('Mr. Daniel J Moran', 6832.44), ('Mr. Daniel Danielsen Gronnestad', 6841.12), ('Mr. Rene Aime Lievens', 6849.8), ('Mr. Niels Peder Jensen', 6858.47), ('Mrs. (Mary) Mack', 6867.15), ('Mr. Dibo Elias', 6875.83), ('Mrs. Elizabeth (Eliza Needs) Hocking', 6884.51), ('Mr. Pehr Fabian Oliver Malkolm Myhrman', 6893.19), ('Mr. Roger Tobin', 6901.87), ('Miss. Virginia Ethel Emanuel', 6910.55), ('Mr. Thomas J Kilgannon', 6919.23), ('Mrs. Edward Scott (Elisabeth Walton McMillan) Robert', 6927.91), ('Miss. Banoura Ayoub', 6936.59), ('Mrs. Albert Adrian (Vera Gillespie) Dick', 6945.27), ('Mr. Milton Clyde Long', 6953.95), ('Mr. Andrew G Johnston', 6962.63), ('Mr. William Ali', 6971.31), ('Mr. Abraham (David Lishin) Harmer', 6979.99), ('Miss. Anna Sofia Sjoblom', 6988.67), ('Master. George Hugh Rice', 6997.35), ('Master. Bertram Vere Dean', 7006.03), ('Mr. Benjamin Guggenheim', 7014.71), ('Mr. Andrew Keane', 7023.39), ('Mr. Alfred Gaskell', 7032.07), ('Miss. Stella Anna Sage', 7040.75), ('Mr. William Fisher Hoyt', 7049.43), ('Mr. Ristiu Dantcheff', 7058.11), ('Mr. Richard Otter', 7066.79), ('Dr. Alice (Farnham) Leader', 7075.47), ('Mrs. Mara Osman', 7084.15), ('Mr. Yousseff Ibrahim Shawah', 7092.83), ('Mrs. Jean Baptiste (Rosalie Paula Govaert) Van Impe', 7101.51), ('Mr. Martin Ponesell', 7110.19), ('Mrs. Harvey (Charlotte Annie Tate) Collyer', 7118.87), ('Master. William Thornton II Carter', 7127.55), ('Master. Assad Alexander Thomas', 7136.23), ('Mr. Oskar Arvid Hedman', 7144.91), ('Mr. Karl Johan Johansson', 7153.59), ('Mr. Thomas Jr Andrews', 7162.26), ('Miss. Ellen Natalia Pettersson', 7170.94), ('Mr. August Meyer', 7179.62), ('Mrs. Norman Campbell (Bertha Griggs) Chambers', 7188.3), ('Mr. William Alexander', 7196.98), ('Mr. James Lester', 7205.66), ('Mr. Richard James Slemen', 7214.34), ('Miss. Ebba Iris Alfrida Andersson', 7223.02), ('Mr. Ernest Portage Tomlin', 7231.7), ('Mr. Richard Fry', 7240.38), ('Miss. Wendla Maria Heininen', 7249.06), ('Mr. Albert Mallet', 7257.74), ('Mr. John Fredrik Alexander Holm', 7266.42), ('Master. Karl Thorsten Skoog', 7275.1), ('Mrs. Charles Melville (Clara Jennings Gregg) Hays', 7283.78), ('Mr. Nikola Lulic', 7292.46), ('Jonkheer. John George Reuchlin', 7301.14), ('Mrs. (Beila) Moor', 7309.82), ('Master. Urho Abraham Panula', 7318.5), ('Mr. John Flynn', 7327.18), ('Mr. Len Lam', 7335.86), ('Master. Andre Mallet', 7344.54), ('Mr. Thomas Joseph McCormack', 7353.22), ('Mrs. George Nelson (Martha Evelyn) Stone', 7361.9), ('Mrs. Antoni (Selini Alexander) Yasbeck', 7370.58), ('Master. George Sibley Richards', 7379.26), ('Mr. Amin Saad', 7387.94), ('Mr. Albert Augustsson', 7396.62), ('Mr. Owen George Allum', 7405.3), ('Miss. Sara Rebecca Compton', 7413.98), ('Mr. Jakob Pasic', 7422.66), ('Mr. Maurice Sirota', 7431.34), ('Mr. Chang Chip', 7440.02), ('Mr. Pierre Marechal', 7448.7), ('Mr. Ilmari Rudolf Alhomaki', 7457.38), ('Mr. Thomas Charles Mudd', 7466.05), ('Miss. Augusta Serepeca', 7474.73), ('Mr. Peter L Lemberopolous', 7483.41), ('Mr. Jeso Culumovic', 7492.09), ('Mr. Anthony Abbing', 7500.77), ('Mr. Douglas Bullen Sage', 7509.45), ('Mr. Marin Markoff', 7518.13), ('Rev. John Harper', 7526.81), ('Mrs. Samuel L (Edwiga Grabowska) Goldenberg', 7535.49), ('Master. Sigvard Harald Elias Andersson', 7544.17), ('Mr. Johan Svensson', 7552.85), ('Miss. Nourelain Boulos', 7561.53), ('Miss. Mary Conover Lines', 7570.21), ('Mrs. Ernest Courtenay (Lilian Hughes) Carter', 7578.89), ('Mrs. Sam (Leah Rosen) Aks', 7587.57), ('Mrs. George Dennick (Mary Hitchcock) Wick', 7596.25), ('Mr. Peter Denis Daly', 7604.93), ('Mrs. Solomon (Latifa Qurban) Baclini', 7613.61), ('Mr. Raihed Razi', 7622.29), ('Mr. Claus Peter Hansen', 7630.97), ('Mr. Frederick Edward Giles', 7639.65), ('Mrs. Frederick Joel (Margaret Welles Barron) Swift', 7648.33), ('Miss. Dorothy Edith Sage', 7657.01), ('Mr. John William Gill', 7665.69), ('Mrs. (Karolina) Bystrom', 7674.37), ('Miss. Asuncion Duran y More', 7683.05), ('Mr. Washington Augustus II Roebling', 7691.73), ('Mr. Philemon van Melkebeke', 7700.41), ('Master. Harold Theodor Johnson', 7709.09), ('Mr. Cerin Balkic', 7717.77), ('Mrs. Richard Leonard (Sallie Monypeny) Beckwith', 7726.45), ('Mr. Frans Olof Carlsson', 7735.13), ('Mr. Victor Vander Cruyssen', 7743.81), ('Mrs. Samuel (Hannah Wizosky) Abelson', 7752.49), ('Miss. Adele Kiamie Najib', 7761.17), ('Mr. Alfred Ossian Gustafsson', 7769.84), ('Mr. Nedelio Petroff', 7778.52), ('Mr. Kristo Laleff', 7787.2), ('Mrs. Thomas Jr (Lily Alexenia Wilson) Potter', 7795.88), ('Mrs. William (Imanita Parrish Hall) Shelley', 7804.56), ('Mr. Johann Markun', 7813.24), ('Miss. Gerda Ulrika Dahlberg', 7821.92), ('Mr. Frederick James Banfield', 7830.6), ('Mr. Henry Jr Sutehall', 7839.28), ('Mrs. William (Margaret Norton) Rice', 7847.96), ('Rev. Juozas Montvila', 7856.64), ('Miss. Margaret Edith Graham', 7865.32), ('Miss. Catherine Helen Johnston', 7874.0), ('Mr. Karl Howell Behr', 7882.68), ('Mr. Patrick Dooley', 7891.36)]\n"
     ]
    }
   ],
   "source": [
    "db = SQLDatabase(engine=engine)\n",
    "print(db.dialect)\n",
    "print(db.get_usable_table_names())\n",
    "print(db.run(\"SELECT * FROM titanic WHERE Age < 5;\"))\n",
    "print(db.run(\"SELECT * FROM deposit WHERE Deposit > 100;\"))"
   ]
  },
  {
   "cell_type": "markdown",
   "metadata": {},
   "source": [
    "# SQL Agent"
   ]
  },
  {
   "cell_type": "code",
   "execution_count": 8,
   "metadata": {},
   "outputs": [],
   "source": [
    "from langchain_ollama import ChatOllama\n",
    "llm = ChatOllama(model='llama3.2:3b')"
   ]
  },
  {
   "cell_type": "code",
   "execution_count": 6,
   "metadata": {},
   "outputs": [],
   "source": [
    "\n",
    "from langchain_community.agent_toolkits import create_sql_agent\n",
    "\n",
    "agent_executor = create_sql_agent(llm, db=db, agent_type=\"openai-tools\", verbose=True)"
   ]
  },
  {
   "cell_type": "code",
   "execution_count": null,
   "metadata": {},
   "outputs": [
    {
     "name": "stdout",
     "output_type": "stream",
     "text": [
      "\n",
      "\n",
      "\u001b[1m> Entering new SQL Agent Executor chain...\u001b[0m\n"
     ]
    }
   ],
   "source": [
    "agent_executor.invoke({\"input\": \"what's the average age of survivors\"})"
   ]
  },
  {
   "cell_type": "code",
   "execution_count": null,
   "metadata": {},
   "outputs": [],
   "source": [
    "agent_executor.invoke({\"input\": \"what's the average deposit of survivors\"})"
   ]
  },
  {
   "cell_type": "code",
   "execution_count": null,
   "metadata": {},
   "outputs": [],
   "source": [
    "agent_executor.invoke({\"input\": \"what are the names of the survivors whose deposit is below 100\"})"
   ]
  },
  {
   "cell_type": "markdown",
   "metadata": {},
   "source": [
    "# 用 llm 操作 pandas dataframe"
   ]
  },
  {
   "cell_type": "code",
   "execution_count": 6,
   "metadata": {},
   "outputs": [
    {
     "data": {
      "text/plain": [
       "32.30542018038331"
      ]
     },
     "execution_count": 6,
     "metadata": {},
     "output_type": "execute_result"
    }
   ],
   "source": [
    "import pandas as pd\n",
    "from langchain_core.prompts import ChatPromptTemplate\n",
    "from langchain_experimental.tools import PythonAstREPLTool\n",
    "\n",
    "df = pd.read_csv(\"titanic.csv\")\n",
    "tool = PythonAstREPLTool(locals={\"df\": df})\n",
    "tool.invoke(\"df['Fare'].mean()\")"
   ]
  },
  {
   "cell_type": "code",
   "execution_count": 11,
   "metadata": {},
   "outputs": [
    {
     "data": {
      "text/plain": [
       "AIMessage(content='', additional_kwargs={}, response_metadata={'model': 'llama3.2:3b', 'created_at': '2025-01-05T09:44:47.6377956Z', 'done': True, 'done_reason': 'stop', 'total_duration': 382772697900, 'load_duration': 40423300, 'prompt_eval_count': 218, 'prompt_eval_duration': 258000000, 'eval_count': 33, 'eval_duration': 382471000000, 'message': Message(role='assistant', content='', images=None, tool_calls=None)}, id='run-e413262b-296e-4f38-bbd5-bfc1d2eab479-0', tool_calls=[{'name': 'python_repl_ast', 'args': {'query': \"import pandas as pd; df[['Age', 'Fare']].corr()\"}, 'id': 'a60a2589-1700-4c4f-99f5-6c75c0070a8c', 'type': 'tool_call'}], usage_metadata={'input_tokens': 218, 'output_tokens': 33, 'total_tokens': 251})"
      ]
     },
     "execution_count": 11,
     "metadata": {},
     "output_type": "execute_result"
    }
   ],
   "source": [
    "llm_with_tools = llm.bind_tools([tool], tool_choice=tool.name)\n",
    "response = llm_with_tools.invoke(\n",
    "    \"I have a dataframe 'df' and want to know the correlation between the 'Age' and 'Fare' columns\"\n",
    ")\n",
    "response"
   ]
  },
  {
   "cell_type": "code",
   "execution_count": 12,
   "metadata": {},
   "outputs": [
    {
     "data": {
      "text/plain": [
       "[{'name': 'python_repl_ast',\n",
       "  'args': {'query': \"import pandas as pd; df[['Age', 'Fare']].corr()\"},\n",
       "  'id': 'a60a2589-1700-4c4f-99f5-6c75c0070a8c',\n",
       "  'type': 'tool_call'}]"
      ]
     },
     "execution_count": 12,
     "metadata": {},
     "output_type": "execute_result"
    }
   ],
   "source": [
    "response.tool_calls"
   ]
  },
  {
   "cell_type": "code",
   "execution_count": 13,
   "metadata": {},
   "outputs": [
    {
     "data": {
      "text/plain": [
       "{'query': \"df['Age'].corr(df['Fare'])\"}"
      ]
     },
     "execution_count": 13,
     "metadata": {},
     "output_type": "execute_result"
    }
   ],
   "source": [
    "from langchain_core.output_parsers.openai_tools import JsonOutputKeyToolsParser\n",
    "\n",
    "parser = JsonOutputKeyToolsParser(key_name=tool.name, first_tool_only=True)\n",
    "(llm_with_tools | parser).invoke(\n",
    "    \"I have a dataframe 'df' and want to know the correlation between the 'Age' and 'Fare' columns\"\n",
    ")"
   ]
  },
  {
   "cell_type": "code",
   "execution_count": 15,
   "metadata": {},
   "outputs": [],
   "source": [
    "system = f\"\"\"You have access to a pandas dataframe `df`. \\\n",
    "Here is the output of `df.head().to_markdown()`:\n",
    "\n",
    "\\`\\`\\`\n",
    "{df.head().to_markdown()}\n",
    "\\`\\`\\`\n",
    "\n",
    "Given a user question, write the Python code to answer it. \\\n",
    "Return ONLY the valid Python code and nothing else. \\\n",
    "Don't assume you have access to any libraries other than built-in Python ones and pandas.\"\"\"\n",
    "prompt = ChatPromptTemplate.from_messages([(\"system\", system), (\"human\", \"{question}\")])\n",
    "code_chain = prompt | llm_with_tools | parser\n",
    "code_chain.invoke({\"question\": \"What's the correlation between age and fare\"})"
   ]
  },
  {
   "cell_type": "code",
   "execution_count": 16,
   "metadata": {},
   "outputs": [
    {
     "data": {
      "text/plain": [
       "ChatPromptTemplate(input_variables=['question'], input_types={}, partial_variables={}, messages=[SystemMessagePromptTemplate(prompt=PromptTemplate(input_variables=[], input_types={}, partial_variables={}, template=\"You have access to a pandas dataframe `df`. Here is the output of `df.head().to_markdown()`:\\n\\n\\\\`\\\\`\\\\`\\n|    |   Survived |   Pclass | Name                                               | Sex    |   Age |   Siblings/Spouses Aboard |   Parents/Children Aboard |    Fare |\\n|---:|-----------:|---------:|:---------------------------------------------------|:-------|------:|--------------------------:|--------------------------:|--------:|\\n|  0 |          0 |        3 | Mr. Owen Harris Braund                             | male   |    22 |                         1 |                         0 |  7.25   |\\n|  1 |          1 |        1 | Mrs. John Bradley (Florence Briggs Thayer) Cumings | female |    38 |                         1 |                         0 | 71.2833 |\\n|  2 |          1 |        3 | Miss. Laina Heikkinen                              | female |    26 |                         0 |                         0 |  7.925  |\\n|  3 |          1 |        1 | Mrs. Jacques Heath (Lily May Peel) Futrelle        | female |    35 |                         1 |                         0 | 53.1    |\\n|  4 |          0 |        3 | Mr. William Henry Allen                            | male   |    35 |                         0 |                         0 |  8.05   |\\n\\\\`\\\\`\\\\`\\n\\nGiven a user question, write the Python code to answer it. Return ONLY the valid Python code and nothing else. Don't assume you have access to any libraries other than built-in Python ones and pandas.\"), additional_kwargs={}), HumanMessagePromptTemplate(prompt=PromptTemplate(input_variables=['question'], input_types={}, partial_variables={}, template='{question}'), additional_kwargs={})])\n",
       "| RunnableBinding(bound=ChatOllama(model='llama3.2:3b'), kwargs={'tools': [{'type': 'function', 'function': {'name': 'python_repl_ast', 'description': 'A Python shell. Use this to execute python commands. Input should be a valid python command. When using this tool, sometimes output is abbreviated - make sure it does not look abbreviated before using it in your answer.', 'parameters': {'properties': {'query': {'description': 'code snippet to run', 'type': 'string'}}, 'required': ['query'], 'type': 'object'}}}]}, config={}, config_factories=[])\n",
       "| JsonOutputKeyToolsParser(first_tool_only=True, key_name='python_repl_ast')"
      ]
     },
     "execution_count": 16,
     "metadata": {},
     "output_type": "execute_result"
    }
   ],
   "source": [
    "code_chain"
   ]
  },
  {
   "cell_type": "code",
   "execution_count": 17,
   "metadata": {},
   "outputs": [
    {
     "data": {
      "text/plain": [
       "'0.11232863699941616\\n'"
      ]
     },
     "execution_count": 17,
     "metadata": {},
     "output_type": "execute_result"
    }
   ],
   "source": [
    "chain = prompt | llm_with_tools | parser | tool\n",
    "chain.invoke({\"question\": \"What's the correlation between age and fare\"})"
   ]
  },
  {
   "cell_type": "code",
   "execution_count": null,
   "metadata": {},
   "outputs": [],
   "source": []
  }
 ],
 "metadata": {
  "kernelspec": {
   "display_name": "langchain",
   "language": "python",
   "name": "python3"
  },
  "language_info": {
   "codemirror_mode": {
    "name": "ipython",
    "version": 3
   },
   "file_extension": ".py",
   "mimetype": "text/x-python",
   "name": "python",
   "nbconvert_exporter": "python",
   "pygments_lexer": "ipython3",
   "version": "3.11.9"
  }
 },
 "nbformat": 4,
 "nbformat_minor": 2
}
