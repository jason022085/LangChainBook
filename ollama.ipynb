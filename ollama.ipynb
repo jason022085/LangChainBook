{
 "cells": [
  {
   "cell_type": "code",
   "execution_count": null,
   "metadata": {},
   "outputs": [],
   "source": [
    "from langchain_ollama import OllamaLLM\n",
    "llm = OllamaLLM(model='llama3.2:3b')"
   ]
  },
  {
   "cell_type": "code",
   "execution_count": 5,
   "metadata": {},
   "outputs": [],
   "source": [
    "from langchain_core.prompts import ChatPromptTemplate\n",
    "prompt = ChatPromptTemplate.from_messages([\n",
    "    (\"system\", \"You are a love story creator with extensive SEO knowledge. Your task is to write an article with about 100 words, and create a SEO title for the article you wrote.\"),\n",
    "    (\"user\", \"{input}\"),\n",
    "])"
   ]
  },
  {
   "cell_type": "code",
   "execution_count": 6,
   "metadata": {},
   "outputs": [
    {
     "name": "stdout",
     "output_type": "stream",
     "text": [
      "**Title:** \"Love at First Swipe: How an iPhone Brought Two Strangers Together\"\n",
      "\n",
      "When Emily's iPhone battery died on a solo hike, she met Ryan, who offered to help her find a charging station. As they waited together under a tree, their conversation flowed effortlessly, and they discovered shared passions and interests. As the sun began to set, Ryan suggested a romantic dinner date, and Emily agreed. Their connection grew stronger with each passing day, and soon they found themselves lost in love. With the iPhone as their catalyst, they proved that even chance encounters can lead to lifelong partnerships.\n",
      "\n",
      "**Word Count:** 100\n",
      "\n",
      "**SEO Keywords:** iPhone, love story, chance encounter, romance, relationships\n"
     ]
    }
   ],
   "source": [
    "chain = prompt | llm\n",
    "print(chain.invoke({\"input\": input('>>> ')}))"
   ]
  },
  {
   "cell_type": "code",
   "execution_count": null,
   "metadata": {},
   "outputs": [],
   "source": []
  }
 ],
 "metadata": {
  "kernelspec": {
   "display_name": "langchain",
   "language": "python",
   "name": "python3"
  },
  "language_info": {
   "codemirror_mode": {
    "name": "ipython",
    "version": 3
   },
   "file_extension": ".py",
   "mimetype": "text/x-python",
   "name": "python",
   "nbconvert_exporter": "python",
   "pygments_lexer": "ipython3",
   "version": "3.11.9"
  }
 },
 "nbformat": 4,
 "nbformat_minor": 2
}
