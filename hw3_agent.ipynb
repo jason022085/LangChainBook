{
 "cells": [
  {
   "cell_type": "code",
   "execution_count": 1,
   "metadata": {},
   "outputs": [],
   "source": [
    "import os\n",
    "from dotenv import load_dotenv, find_dotenv\n",
    "load_dotenv(find_dotenv())\n",
    "TAVILY_API_KEY = os.getenv('TAVILY_API_KEY')"
   ]
  },
  {
   "cell_type": "markdown",
   "metadata": {},
   "source": [
    "# 簡單的Agent demo\n",
    "- https://www.langchain.com.cn/docs/tutorials/agents/\n",
    "- https://app.tavily.com/home?code=y8T47whUH7HY5akkEpvHh3paUISRO50TQhUVTb4fn_UUS&state=eyJyZXR1cm5UbyI6Ii9ob21lIn0"
   ]
  },
  {
   "cell_type": "code",
   "execution_count": 2,
   "metadata": {},
   "outputs": [
    {
     "name": "stdout",
     "output_type": "stream",
     "text": [
      "{'agent': {'messages': [AIMessage(content='', additional_kwargs={}, response_metadata={'model': 'llama3.2:3b', 'created_at': '2025-01-05T07:37:14.8954348Z', 'message': {'role': 'assistant', 'content': '', 'tool_calls': [{'function': {'name': 'tavily_search_results_json', 'arguments': {'query': 'San Francisco resident information'}}}]}, 'done_reason': 'stop', 'done': True, 'total_duration': 22126938200, 'load_duration': 19810185100, 'prompt_eval_count': 195, 'prompt_eval_duration': 597000000, 'eval_count': 24, 'eval_duration': 1716000000}, id='run-c1fa2528-cd2b-47b6-a405-66adf01683ec-0', tool_calls=[{'name': 'tavily_search_results_json', 'args': {'query': 'San Francisco resident information'}, 'id': '9ad3e3ea-1877-4cf5-9a13-8340f1db1488', 'type': 'tool_call'}], usage_metadata={'input_tokens': 195, 'output_tokens': 24, 'total_tokens': 219})]}}\n",
      "----\n",
      "{'tools': {'messages': [ToolMessage(content='[{\"url\": \"https://www.sfgov.org/residents\", \"content\": \"San francisco is a unique city that offers residents access to many services · Emergency & Safety. Adult Probation Services · Environment. City Tree Maintenance.\"}, {\"url\": \"http://www.sf.gov/get-free-sf-city-id-card\", \"content\": \"May 15, 2023 ... If you can\\'t show that the child lives in San Francisco, you can use the parent or guardian\\'s proof of residency. ... The parent\\'s information\"}]', name='tavily_search_results_json', id='bd7e1059-6a18-402f-9618-40113d627716', tool_call_id='9ad3e3ea-1877-4cf5-9a13-8340f1db1488', artifact={'query': 'San Francisco resident information', 'follow_up_questions': None, 'answer': None, 'images': [], 'results': [{'title': 'Residents | SFGOV - City and County of San Francisco', 'url': 'https://www.sfgov.org/residents', 'content': 'San francisco is a unique city that offers residents access to many services · Emergency & Safety. Adult Probation Services · Environment. City Tree Maintenance.', 'score': 0.52393246, 'raw_content': None}, {'title': 'Get a free SF City ID Card | San Francisco', 'url': 'http://www.sf.gov/get-free-sf-city-id-card', 'content': \"May 15, 2023 ... If you can't show that the child lives in San Francisco, you can use the parent or guardian's proof of residency. ... The parent's information\", 'score': 0.40655622, 'raw_content': None}], 'response_time': 2.42})]}}\n",
      "----\n",
      "{'agent': {'messages': [AIMessage(content=\"Hello Bob! \\n\\nAs a resident of San Francisco, you have access to various services and resources offered by the city government. You can start by visiting the official website of the City and County of San Francisco at [https://www.sfgov.org/](https://www.sfgov.org/). There, you can find information on adult probation services, environmental programs, and city tree maintenance.\\n\\nAdditionally, if you're looking for a free SF city ID card, you can check out the link [http://www.sf.gov/get-free-sf-city-id-card](http://www.sf.gov/get-free-sf-city-id-card). This can be helpful if you need to show proof of residency.\\n\\nIf you have any questions or concerns about your residency status, you can reach out to the City and County of San Francisco for more information.\", additional_kwargs={}, response_metadata={'model': 'llama3.2:3b', 'created_at': '2025-01-05T07:37:32.2270468Z', 'message': {'role': 'assistant', 'content': \"Hello Bob! \\n\\nAs a resident of San Francisco, you have access to various services and resources offered by the city government. You can start by visiting the official website of the City and County of San Francisco at [https://www.sfgov.org/](https://www.sfgov.org/). There, you can find information on adult probation services, environmental programs, and city tree maintenance.\\n\\nAdditionally, if you're looking for a free SF city ID card, you can check out the link [http://www.sf.gov/get-free-sf-city-id-card](http://www.sf.gov/get-free-sf-city-id-card). This can be helpful if you need to show proof of residency.\\n\\nIf you have any questions or concerns about your residency status, you can reach out to the City and County of San Francisco for more information.\"}, 'done_reason': 'stop', 'done': True, 'total_duration': 13739080000, 'load_duration': 29004200, 'prompt_eval_count': 210, 'prompt_eval_duration': 122000000, 'eval_count': 169, 'eval_duration': 12835000000}, id='run-0a67dcf3-3023-4378-a804-2c2a432e1d0a-0', usage_metadata={'input_tokens': 210, 'output_tokens': 169, 'total_tokens': 379})]}}\n",
      "----\n",
      "{'agent': {'messages': [AIMessage(content='', additional_kwargs={}, response_metadata={'model': 'llama3.2:3b', 'created_at': '2025-01-05T07:37:34.2083854Z', 'message': {'role': 'assistant', 'content': '', 'tool_calls': [{'function': {'name': 'tavily_search_results_json', 'arguments': {'query': 'San Francisco weather'}}}]}, 'done_reason': 'stop', 'done': True, 'total_duration': 1973164600, 'load_duration': 27966900, 'prompt_eval_count': 525, 'prompt_eval_duration': 48000000, 'eval_count': 23, 'eval_duration': 1893000000}, id='run-372b0b01-0a43-47b1-ae8d-933974f20ba7-0', tool_calls=[{'name': 'tavily_search_results_json', 'args': {'query': 'San Francisco weather'}, 'id': 'b6e60b67-db2c-4950-ae7f-c0abb3fa4966', 'type': 'tool_call'}], usage_metadata={'input_tokens': 525, 'output_tokens': 23, 'total_tokens': 548})]}}\n",
      "----\n",
      "{'tools': {'messages': [ToolMessage(content='[{\"url\": \"https://www.weatherapi.com/\", \"content\": \"{\\'location\\': {\\'name\\': \\'San Francisco\\', \\'region\\': \\'California\\', \\'country\\': \\'United States of America\\', \\'lat\\': 37.775, \\'lon\\': -122.4183, \\'tz_id\\': \\'America/Los_Angeles\\', \\'localtime_epoch\\': 1736060289, \\'localtime\\': \\'2025-01-04 22:58\\'}, \\'current\\': {\\'last_updated_epoch\\': 1736059500, \\'last_updated\\': \\'2025-01-04 22:45\\', \\'temp_c\\': 8.9, \\'temp_f\\': 48.0, \\'is_day\\': 0, \\'condition\\': {\\'text\\': \\'Partly cloudy\\', \\'icon\\': \\'//cdn.weatherapi.com/weather/64x64/night/116.png\\', \\'code\\': 1003}, \\'wind_mph\\': 2.9, \\'wind_kph\\': 4.7, \\'wind_degree\\': 331, \\'wind_dir\\': \\'NNW\\', \\'pressure_mb\\': 1028.0, \\'pressure_in\\': 30.35, \\'precip_mm\\': 0.0, \\'precip_in\\': 0.0, \\'humidity\\': 86, \\'cloud\\': 50, \\'feelslike_c\\': 8.6, \\'feelslike_f\\': 47.5, \\'windchill_c\\': 10.2, \\'windchill_f\\': 50.4, \\'heatindex_c\\': 10.6, \\'heatindex_f\\': 51.1, \\'dewpoint_c\\': 8.6, \\'dewpoint_f\\': 47.4, \\'vis_km\\': 16.0, \\'vis_miles\\': 9.0, \\'uv\\': 0.0, \\'gust_mph\\': 4.7, \\'gust_kph\\': 7.6}}\"}, {\"url\": \"https://www.meteoprog.com/weather/Sanfrancisco/month/january/\", \"content\": \"San Francisco weather in January 2025 ⋆ San Francisco temperature in January ≡ Weather forecast in United States | METEOPROG Weather in United States Weather Widgets WEATHER San Francisco Weather on a map Weather Widget San Francisco weather in January 2025 +13°+6° +13°+6° +13°+7° +13°+7° +13°+6° +14°+6° +14°+7° +13°+7° +14°+6° +14°+8° +14°+8° +13°+7° +13°+7° +14°+7° +14°+8° +15°+7° +15°+7° +14°+7° +14°+8° +14°+8° +15°+9° +15°+8° +15°+7° +14°+8° +15°+8° +15°+8° +15°+8° +16°+9° +15°+8° +16°+8° +15°+8° +15°+9° +15°+7° +16°+7° +16°+9° January in San Francisco Max. temperature +23.2°C Min. temperature -0.9°C +16° +17° +13° +25° +16° +18° +17° +22° +18° +15° +21° +14° +22° +12° +23° +20° San Francisco Weather Weather in United States Monthly weather forecast in San Francisco Weather in January Weather Widgets\"}]', name='tavily_search_results_json', id='327b9512-441d-4bc3-a489-38499a6daf20', tool_call_id='b6e60b67-db2c-4950-ae7f-c0abb3fa4966', artifact={'query': 'San Francisco weather', 'follow_up_questions': None, 'answer': None, 'images': [], 'results': [{'title': 'Weather in San Francisco, California', 'url': 'https://www.weatherapi.com/', 'content': \"{'location': {'name': 'San Francisco', 'region': 'California', 'country': 'United States of America', 'lat': 37.775, 'lon': -122.4183, 'tz_id': 'America/Los_Angeles', 'localtime_epoch': 1736060289, 'localtime': '2025-01-04 22:58'}, 'current': {'last_updated_epoch': 1736059500, 'last_updated': '2025-01-04 22:45', 'temp_c': 8.9, 'temp_f': 48.0, 'is_day': 0, 'condition': {'text': 'Partly cloudy', 'icon': '//cdn.weatherapi.com/weather/64x64/night/116.png', 'code': 1003}, 'wind_mph': 2.9, 'wind_kph': 4.7, 'wind_degree': 331, 'wind_dir': 'NNW', 'pressure_mb': 1028.0, 'pressure_in': 30.35, 'precip_mm': 0.0, 'precip_in': 0.0, 'humidity': 86, 'cloud': 50, 'feelslike_c': 8.6, 'feelslike_f': 47.5, 'windchill_c': 10.2, 'windchill_f': 50.4, 'heatindex_c': 10.6, 'heatindex_f': 51.1, 'dewpoint_c': 8.6, 'dewpoint_f': 47.4, 'vis_km': 16.0, 'vis_miles': 9.0, 'uv': 0.0, 'gust_mph': 4.7, 'gust_kph': 7.6}}\", 'score': 0.7993654, 'raw_content': None}, {'title': 'San Francisco weather in January 2025 - METEOPROG.COM', 'url': 'https://www.meteoprog.com/weather/Sanfrancisco/month/january/', 'content': 'San Francisco weather in January 2025 ⋆ San Francisco temperature in January ≡ Weather forecast in United States | METEOPROG Weather in United States Weather Widgets WEATHER San Francisco Weather on a map Weather Widget San Francisco weather in January 2025 +13°+6° +13°+6° +13°+7° +13°+7° +13°+6° +14°+6° +14°+7° +13°+7° +14°+6° +14°+8° +14°+8° +13°+7° +13°+7° +14°+7° +14°+8° +15°+7° +15°+7° +14°+7° +14°+8° +14°+8° +15°+9° +15°+8° +15°+7° +14°+8° +15°+8° +15°+8° +15°+8° +16°+9° +15°+8° +16°+8° +15°+8° +15°+9° +15°+7° +16°+7° +16°+9° January in San Francisco Max. temperature +23.2°C Min. temperature -0.9°C +16° +17° +13° +25° +16° +18° +17° +22° +18° +15° +21° +14° +22° +12° +23° +20° San Francisco Weather Weather in United States Monthly weather forecast in San Francisco Weather in January Weather Widgets', 'score': 0.5170594, 'raw_content': None}], 'response_time': 11.04})]}}\n",
      "----\n",
      "{'agent': {'messages': [AIMessage(content=\"Hello Bob!\\n\\nThe current weather in San Francisco is partly cloudy with a temperature of 8.9°C (48°F). The wind is blowing at 2.9 mph (4.7 km/h) from the NNW direction, and the pressure is 1028.0 mbar.\\n\\nIf you're looking for more detailed information or a forecast for your area, I recommend checking out websites like WeatherAPI or METEOPROG for up-to-date weather conditions and forecasts for San Francisco.\\n\\nHere's a brief summary of the current weather:\\n\\n* Temperature: 8.9°C (48°F)\\n* Wind speed: 2.9 mph (4.7 km/h) from NNW\\n* Condition: Partly cloudy\\n* Humidity: 86%\\n\\nStay dry and warm, Bob!\", additional_kwargs={}, response_metadata={'model': 'llama3.2:3b', 'created_at': '2025-01-05T07:38:01.0576263Z', 'message': {'role': 'assistant', 'content': \"Hello Bob!\\n\\nThe current weather in San Francisco is partly cloudy with a temperature of 8.9°C (48°F). The wind is blowing at 2.9 mph (4.7 km/h) from the NNW direction, and the pressure is 1028.0 mbar.\\n\\nIf you're looking for more detailed information or a forecast for your area, I recommend checking out websites like WeatherAPI or METEOPROG for up-to-date weather conditions and forecasts for San Francisco.\\n\\nHere's a brief summary of the current weather:\\n\\n* Temperature: 8.9°C (48°F)\\n* Wind speed: 2.9 mph (4.7 km/h) from NNW\\n* Condition: Partly cloudy\\n* Humidity: 86%\\n\\nStay dry and warm, Bob!\"}, 'done_reason': 'stop', 'done': True, 'total_duration': 14831718200, 'load_duration': 26393200, 'prompt_eval_count': 1217, 'prompt_eval_duration': 1247000000, 'eval_count': 165, 'eval_duration': 13549000000}, id='run-a7db5896-12a2-4db4-8333-05c224582e71-0', usage_metadata={'input_tokens': 1217, 'output_tokens': 165, 'total_tokens': 1382})]}}\n",
      "----\n"
     ]
    }
   ],
   "source": [
    "# Import relevant functionality\n",
    "from langchain_ollama import OllamaLLM, ChatOllama\n",
    "\n",
    "from langchain_community.tools.tavily_search import TavilySearchResults\n",
    "from langchain_core.messages import HumanMessage\n",
    "from langgraph.checkpoint.memory import MemorySaver\n",
    "from langgraph.prebuilt import create_react_agent\n",
    "\n",
    "# Create the agent\n",
    "memory = MemorySaver()\n",
    "model = ChatOllama(model='llama3.2:3b')\n",
    "search = TavilySearchResults(max_results=2)\n",
    "tools = [search]\n",
    "agent_executor = create_react_agent(model, tools, checkpointer=memory)\n",
    "\n",
    "# Use the agent\n",
    "config = {\"configurable\": {\"thread_id\": \"abc123\"}}\n",
    "for chunk in agent_executor.stream(\n",
    "    {\"messages\": [HumanMessage(content=\"hi im bob! and i live in sf\")]}, config\n",
    "):\n",
    "    print(chunk)\n",
    "    print(\"----\")\n",
    "\n",
    "for chunk in agent_executor.stream(\n",
    "    {\"messages\": [HumanMessage(content=\"whats the weather where I live?\")]}, config\n",
    "):\n",
    "    print(chunk)\n",
    "    print(\"----\")"
   ]
  },
  {
   "cell_type": "markdown",
   "metadata": {},
   "source": [
    "# 以下為Demo的各部分拆解"
   ]
  },
  {
   "cell_type": "markdown",
   "metadata": {},
   "source": [
    "# Tools\n",
    "我們首先需要創建我們想要使用的工具。我們主要選擇的工具將是Tavily - 一個搜尋引擎。 LangChain內建了一個工具，可以輕鬆使用Tavily搜尋引擎作為工具"
   ]
  },
  {
   "cell_type": "code",
   "execution_count": null,
   "metadata": {},
   "outputs": [],
   "source": [
    "from langchain_community.tools.tavily_search import TavilySearchResults\n",
    "\n",
    "search = TavilySearchResults(max_results=2)\n",
    "search_results = search.invoke(\"what is the weather in Taiwan?\")\n",
    "print(search_results)\n",
    "# If we want, we can create other tools.\n",
    "# Once we have all the tools we want, we can put them in a list that we will reference later.\n",
    "tools = [search]"
   ]
  },
  {
   "cell_type": "markdown",
   "metadata": {},
   "source": [
    "# LLM with tools"
   ]
  },
  {
   "cell_type": "code",
   "execution_count": null,
   "metadata": {},
   "outputs": [],
   "source": [
    "from langchain_ollama import ChatOllama\n",
    "model = ChatOllama(model='llama3.2:3b')"
   ]
  },
  {
   "cell_type": "code",
   "execution_count": null,
   "metadata": {},
   "outputs": [],
   "source": [
    "#您可以透過傳入訊息清單來呼叫語言模型。\n",
    "from langchain_core.messages import HumanMessage\n",
    "\n",
    "response = model.invoke([HumanMessage(content=\"hi!\")])\n",
    "response.content"
   ]
  },
  {
   "cell_type": "code",
   "execution_count": null,
   "metadata": {},
   "outputs": [],
   "source": [
    "# 綁定tools的方法\n",
    "model_with_tools = model.bind_tools(tools)"
   ]
  },
  {
   "cell_type": "code",
   "execution_count": null,
   "metadata": {},
   "outputs": [],
   "source": [
    "# 觀察tool_calls\n",
    "response = model_with_tools.invoke([HumanMessage(content=\"Hi!\")])\n",
    "\n",
    "print(f\"ContentString: {response.content}\")\n",
    "print(f\"ToolCalls: {response.tool_calls}\")"
   ]
  },
  {
   "cell_type": "code",
   "execution_count": null,
   "metadata": {},
   "outputs": [],
   "source": [
    "# 觀察tool_calls\n",
    "response = model_with_tools.invoke([HumanMessage(content=\"What's the weather in SF?\")])\n",
    "\n",
    "print(f\"ContentString: {response.content}\")\n",
    "print(f\"ToolCalls: {response.tool_calls}\")\n",
    "# 我們可以看到現在沒有文字內容，但有一個工具呼叫！它希望我們呼叫Tavily Search 工具。\n",
    "# 這還沒有調用那個工具- 它只是告訴我們去調用。為了實際調用它，我們需要創建我們的代理。"
   ]
  },
  {
   "cell_type": "markdown",
   "metadata": {},
   "source": [
    "# Create Agent\n"
   ]
  },
  {
   "cell_type": "code",
   "execution_count": null,
   "metadata": {},
   "outputs": [],
   "source": [
    "from langgraph.prebuilt import create_react_agent\n",
    "\n",
    "agent_executor = create_react_agent(model, tools)"
   ]
  },
  {
   "cell_type": "code",
   "execution_count": null,
   "metadata": {},
   "outputs": [],
   "source": [
    "# 請注意，代理將在交互結束時返回最終狀態（包括任何輸入，我們稍後將看到如何僅獲取輸出）。\n",
    "\n",
    "# 當不需要工具時 (這邊發生了意外，llama3在我打招呼的時候就會去找最近的新聞跟我分享XD)\n",
    "response = agent_executor.invoke({\"messages\": [HumanMessage(content=\"hi!\")]})\n",
    "\n",
    "response[\"messages\"]"
   ]
  },
  {
   "cell_type": "code",
   "execution_count": null,
   "metadata": {},
   "outputs": [],
   "source": [
    "# 當需要工具時\n",
    "response = agent_executor.invoke(\n",
    "    {\"messages\": [HumanMessage(content=\"whats the weather in Taipei?\")]}\n",
    ")\n",
    "response[\"messages\"]"
   ]
  },
  {
   "cell_type": "code",
   "execution_count": null,
   "metadata": {},
   "outputs": [],
   "source": [
    "# AI 的第一個message可以查看呼叫的tool\n",
    "response[\"messages\"][1].tool_calls"
   ]
  },
  {
   "cell_type": "markdown",
   "metadata": {},
   "source": [
    "# Streaming"
   ]
  },
  {
   "cell_type": "code",
   "execution_count": null,
   "metadata": {},
   "outputs": [],
   "source": [
    "# 每次message都即時顯示出來\n",
    "for chunk in agent_executor.stream(\n",
    "    {\"messages\": [HumanMessage(content=\"whats the weather in sf?\")]}\n",
    "):\n",
    "    print(chunk)\n",
    "    print(\"----\")"
   ]
  },
  {
   "cell_type": "markdown",
   "metadata": {},
   "source": [
    "## astream_events (沒讀懂)\n",
    "除了流式返回訊息，\n",
    "流式返回令牌也是有用的。\n",
    "我們可以使用.astream_events方法來實現這一點"
   ]
  },
  {
   "cell_type": "code",
   "execution_count": null,
   "metadata": {},
   "outputs": [],
   "source": [
    "async for event in agent_executor.astream_events(\n",
    "    {\"messages\": [HumanMessage(content=\"why sky is blue?\")]}, version=\"v1\"\n",
    "):\n",
    "    kind = event[\"event\"]\n",
    "    # print(kind)\n",
    "    if kind == \"on_chain_start\":\n",
    "        if (\n",
    "            event[\"name\"] == \"Agent\"\n",
    "        ):  # Was assigned when creating the agent with `.with_config({\"run_name\": \"Agent\"})`\n",
    "            print(\n",
    "                f\"Starting agent: {event['name']} with input: {event['data'].get('input')}\"\n",
    "            )\n",
    "    elif kind == \"on_chain_end\":\n",
    "        if (\n",
    "            event[\"name\"] == \"Agent\"\n",
    "        ):  # Was assigned when creating the agent with `.with_config({\"run_name\": \"Agent\"})`\n",
    "            print()\n",
    "            print(\"--\")\n",
    "            print(\n",
    "                f\"Done agent: {event['name']} with output: {event['data'].get('output')['output']}\"\n",
    "            )\n",
    "    if kind == \"on_chat_model_stream\":\n",
    "        content = event[\"data\"][\"chunk\"].content\n",
    "        if content:\n",
    "            # Empty content in the context of OpenAI means\n",
    "            # that the model is asking for a tool to be invoked.\n",
    "            # So we only print non-empty content\n",
    "            print(content, end=\"|\")\n",
    "    elif kind == \"on_tool_start\":\n",
    "        print(\"--\")\n",
    "        print(\n",
    "            f\"Starting tool: {event['name']} with inputs: {event['data'].get('input')}\"\n",
    "        )\n",
    "    elif kind == \"on_tool_end\":\n",
    "        print(f\"Done tool: {event['name']}\")\n",
    "        print(f\"Tool output was: {event['data'].get('output')}\")\n",
    "        print(\"--\")"
   ]
  },
  {
   "cell_type": "markdown",
   "metadata": {},
   "source": [
    "# Checkpoint Memory"
   ]
  },
  {
   "cell_type": "code",
   "execution_count": null,
   "metadata": {},
   "outputs": [],
   "source": [
    "# 如前所述，該代理是無狀態的。這意味著它不記得先前的互動。\n",
    "# 為了給它添加內存，我們需要傳入一個檢查點。\n",
    "# 當傳入檢查點時，我們還必須在呼叫代理時傳入thread_id（以便它知道從哪個執行緒/對話恢復）\n",
    "from langgraph.checkpoint.memory import MemorySaver\n",
    "\n",
    "memory = MemorySaver()\n"
   ]
  },
  {
   "cell_type": "code",
   "execution_count": null,
   "metadata": {},
   "outputs": [],
   "source": [
    "agent_executor = create_react_agent(model, tools, checkpointer=memory)\n",
    "\n",
    "config = {\"configurable\": {\"thread_id\": \"abc123\"}}"
   ]
  },
  {
   "cell_type": "code",
   "execution_count": null,
   "metadata": {},
   "outputs": [],
   "source": [
    "for chunk in agent_executor.stream(\n",
    "    {\"messages\": [HumanMessage(content=\"Hello, I am Jason. How are you?\")]}, config\n",
    "):\n",
    "    print(chunk)\n",
    "    print(\"----\")"
   ]
  },
  {
   "cell_type": "code",
   "execution_count": null,
   "metadata": {},
   "outputs": [],
   "source": [
    "# 注意，我換了一個thread_id，agent就不認識我了!\n",
    "config = {\"configurable\": {\"thread_id\": \"xyz123\"}}\n",
    "for chunk in agent_executor.stream(\n",
    "    {\"messages\": [HumanMessage(content=\"Whats my name?\")]}, config\n",
    "):\n",
    "    print(chunk)\n",
    "    print(\"----\")"
   ]
  },
  {
   "cell_type": "code",
   "execution_count": null,
   "metadata": {},
   "outputs": [],
   "source": []
  }
 ],
 "metadata": {
  "kernelspec": {
   "display_name": "langchain",
   "language": "python",
   "name": "python3"
  },
  "language_info": {
   "codemirror_mode": {
    "name": "ipython",
    "version": 3
   },
   "file_extension": ".py",
   "mimetype": "text/x-python",
   "name": "python",
   "nbconvert_exporter": "python",
   "pygments_lexer": "ipython3",
   "version": "3.11.9"
  }
 },
 "nbformat": 4,
 "nbformat_minor": 2
}
